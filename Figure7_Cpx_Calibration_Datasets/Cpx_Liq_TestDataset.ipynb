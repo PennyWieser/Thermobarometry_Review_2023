{
 "cells": [
  {
   "cell_type": "markdown",
   "metadata": {},
   "source": [
    "## Calibratoin dataset"
   ]
  },
  {
   "cell_type": "code",
   "execution_count": 2,
   "metadata": {},
   "outputs": [],
   "source": [
    "# First, you need to install Thermobar\n",
    "#!pip install Thermobar"
   ]
  },
  {
   "cell_type": "code",
   "execution_count": 3,
   "metadata": {},
   "outputs": [
    {
     "name": "stdout",
     "output_type": "stream",
     "text": [
      "1.0.26\n"
     ]
    }
   ],
   "source": [
    "# Now import it and check version\n",
    "import Thermobar as pt\n",
    "print(pt.__version__)\n",
    "# lets import other python things too\n",
    "import numpy as np\n",
    "# Pandas is like spreadsheets in python\n",
    "import pandas as pd\n",
    "# Lets get it to display all pandas columns\n",
    "pd.set_option('display.max_columns', None)\n",
    "# This is for plotting\n",
    "import matplotlib.pyplot as plt"
   ]
  },
  {
   "cell_type": "code",
   "execution_count": 4,
   "metadata": {},
   "outputs": [
    {
     "name": "stdout",
     "output_type": "stream",
     "text": [
      "Collecting git+https://bitbucket.org/jsteven5/tasplot.git\n",
      "  Cloning https://bitbucket.org/jsteven5/tasplot.git to c:\\users\\penny\\appdata\\local\\temp\\pip-req-build-1yl1xgnh\n",
      "  Resolved https://bitbucket.org/jsteven5/tasplot.git to commit dcd1d9e1f57d8b8554e6d76f6ab83ccc299903e2\n",
      "  Preparing metadata (setup.py): started\n",
      "  Preparing metadata (setup.py): finished with status 'done'\n",
      "Requirement already satisfied: matplotlib in c:\\users\\penny\\anaconda3\\lib\\site-packages (from TASplot==0.1) (3.7.1)\n",
      "Requirement already satisfied: contourpy>=1.0.1 in c:\\users\\penny\\anaconda3\\lib\\site-packages (from matplotlib->TASplot==0.1) (1.0.5)\n",
      "Requirement already satisfied: cycler>=0.10 in c:\\users\\penny\\anaconda3\\lib\\site-packages (from matplotlib->TASplot==0.1) (0.11.0)\n",
      "Requirement already satisfied: fonttools>=4.22.0 in c:\\users\\penny\\anaconda3\\lib\\site-packages (from matplotlib->TASplot==0.1) (4.25.0)\n",
      "Requirement already satisfied: kiwisolver>=1.0.1 in c:\\users\\penny\\anaconda3\\lib\\site-packages (from matplotlib->TASplot==0.1) (1.4.4)\n",
      "Requirement already satisfied: numpy>=1.20 in c:\\users\\penny\\anaconda3\\lib\\site-packages (from matplotlib->TASplot==0.1) (1.24.2)\n",
      "Requirement already satisfied: packaging>=20.0 in c:\\users\\penny\\anaconda3\\lib\\site-packages (from matplotlib->TASplot==0.1) (23.0)\n",
      "Requirement already satisfied: pillow>=6.2.0 in c:\\users\\penny\\anaconda3\\lib\\site-packages (from matplotlib->TASplot==0.1) (9.4.0)\n",
      "Requirement already satisfied: pyparsing>=2.3.1 in c:\\users\\penny\\anaconda3\\lib\\site-packages (from matplotlib->TASplot==0.1) (3.0.9)\n",
      "Requirement already satisfied: python-dateutil>=2.7 in c:\\users\\penny\\anaconda3\\lib\\site-packages (from matplotlib->TASplot==0.1) (2.8.2)\n",
      "Requirement already satisfied: importlib-resources>=3.2.0 in c:\\users\\penny\\anaconda3\\lib\\site-packages (from matplotlib->TASplot==0.1) (5.2.0)\n",
      "Requirement already satisfied: zipp>=3.1.0 in c:\\users\\penny\\anaconda3\\lib\\site-packages (from importlib-resources>=3.2.0->matplotlib->TASplot==0.1) (3.11.0)\n",
      "Requirement already satisfied: six>=1.5 in c:\\users\\penny\\anaconda3\\lib\\site-packages (from python-dateutil>=2.7->matplotlib->TASplot==0.1) (1.16.0)\n"
     ]
    },
    {
     "name": "stderr",
     "output_type": "stream",
     "text": [
      "  Running command git clone --filter=blob:none --quiet https://bitbucket.org/jsteven5/tasplot.git 'C:\\Users\\penny\\AppData\\Local\\Temp\\pip-req-build-1yl1xgnh'\n",
      "  warning: filtering not recognized by server, ignoring\n"
     ]
    }
   ],
   "source": [
    "# If we want to draw a TAS diagram, we can import from here\n",
    "!pip install git+https://bitbucket.org/jsteven5/tasplot.git\n",
    "import tasplot"
   ]
  },
  {
   "cell_type": "markdown",
   "metadata": {},
   "source": [
    "## We need to import TAS plot"
   ]
  },
  {
   "cell_type": "code",
   "execution_count": 5,
   "metadata": {},
   "outputs": [
    {
     "ename": "NameError",
     "evalue": "name 'Cali_Dataset_Putirka' is not defined",
     "output_type": "error",
     "traceback": [
      "\u001b[1;31m---------------------------------------------------------------------------\u001b[0m",
      "\u001b[1;31mNameError\u001b[0m                                 Traceback (most recent call last)",
      "Cell \u001b[1;32mIn[5], line 8\u001b[0m\n\u001b[0;32m      6\u001b[0m fig, axes\u001b[39m=\u001b[39mplt\u001b[39m.\u001b[39msubplot_mosaic(mosaic\u001b[39m=\u001b[39mfigure_mosaic, figsize\u001b[39m=\u001b[39m(\u001b[39m8\u001b[39m,\u001b[39m8\u001b[39m))\n\u001b[0;32m      7\u001b[0m \u001b[39m# Tas Diagram\u001b[39;00m\n\u001b[1;32m----> 8\u001b[0m axes[\u001b[39m'\u001b[39m\u001b[39mA\u001b[39m\u001b[39m'\u001b[39m]\u001b[39m.\u001b[39mplot(Cali_Dataset_Putirka[\u001b[39m'\u001b[39m\u001b[39mSiO2_Liq\u001b[39m\u001b[39m'\u001b[39m], Cali_Dataset_Putirka[\u001b[39m'\u001b[39m\u001b[39mNa2O_Liq\u001b[39m\u001b[39m'\u001b[39m]\u001b[39m+\u001b[39mCali_Dataset_Putirka[\u001b[39m'\u001b[39m\u001b[39mK2O_Liq\u001b[39m\u001b[39m'\u001b[39m],\n\u001b[0;32m      9\u001b[0m          \u001b[39m'\u001b[39m\u001b[39ms\u001b[39m\u001b[39m'\u001b[39m, mec\u001b[39m=\u001b[39m\u001b[39m'\u001b[39m\u001b[39mgrey\u001b[39m\u001b[39m'\u001b[39m, mfc\u001b[39m=\u001b[39m\u001b[39m'\u001b[39m\u001b[39mgrey\u001b[39m\u001b[39m'\u001b[39m, ms\u001b[39m=\u001b[39m\u001b[39m2\u001b[39m)\n\u001b[0;32m     10\u001b[0m axes[\u001b[39m'\u001b[39m\u001b[39mA\u001b[39m\u001b[39m'\u001b[39m]\u001b[39m.\u001b[39mplot(Cali_Dataset_Brugman[\u001b[39m'\u001b[39m\u001b[39mSiO2_Liq\u001b[39m\u001b[39m'\u001b[39m], Cali_Dataset_Brugman[\u001b[39m'\u001b[39m\u001b[39mNa2O_Liq\u001b[39m\u001b[39m'\u001b[39m]\u001b[39m+\u001b[39mCali_Dataset_Brugman[\u001b[39m'\u001b[39m\u001b[39mK2O_Liq\u001b[39m\u001b[39m'\u001b[39m],\n\u001b[0;32m     11\u001b[0m          \u001b[39m'\u001b[39m\u001b[39msk\u001b[39m\u001b[39m'\u001b[39m, mfc\u001b[39m=\u001b[39m\u001b[39m'\u001b[39m\u001b[39mcyan\u001b[39m\u001b[39m'\u001b[39m)\n\u001b[0;32m     12\u001b[0m axes[\u001b[39m'\u001b[39m\u001b[39mA\u001b[39m\u001b[39m'\u001b[39m]\u001b[39m.\u001b[39mplot(Cali_Dataset_Wang[\u001b[39m'\u001b[39m\u001b[39mSiO2_Liq\u001b[39m\u001b[39m'\u001b[39m], Cali_Dataset_Wang[\u001b[39m'\u001b[39m\u001b[39mNa2O_Liq\u001b[39m\u001b[39m'\u001b[39m]\u001b[39m+\u001b[39mCali_Dataset_Wang[\u001b[39m'\u001b[39m\u001b[39mK2O_Liq\u001b[39m\u001b[39m'\u001b[39m],\n\u001b[0;32m     13\u001b[0m          \u001b[39m'\u001b[39m\u001b[39moy\u001b[39m\u001b[39m'\u001b[39m, mfc\u001b[39m=\u001b[39m\u001b[39m'\u001b[39m\u001b[39myellow\u001b[39m\u001b[39m'\u001b[39m, ms\u001b[39m=\u001b[39m\u001b[39m3\u001b[39m)\n",
      "\u001b[1;31mNameError\u001b[0m: name 'Cali_Dataset_Putirka' is not defined"
     ]
    },
    {
     "data": {
      "image/png": "[encoded data removed]",
      "text/plain": [
       "<Figure size 800x800 with 3 Axes>"
      ]
     },
     "metadata": {},
     "output_type": "display_data"
    }
   ],
   "source": [
    "#fig, (ax1, ax2) = plt.subplots(2, 1, figsize=(10,10), sharey=True)\n",
    "figure_mosaic=\"\"\"\n",
    "AA\n",
    "BC\n",
    "\"\"\"\n",
    "fig, axes=plt.subplot_mosaic(mosaic=figure_mosaic, figsize=(8,8))\n",
    "# Tas Diagram\n",
    "axes['A'].plot(Cali_Dataset_Putirka['SiO2_Liq'], Cali_Dataset_Putirka['Na2O_Liq']+Cali_Dataset_Putirka['K2O_Liq'],\n",
    "         's', mec='grey', mfc='grey', ms=2)\n",
    "axes['A'].plot(Cali_Dataset_Brugman['SiO2_Liq'], Cali_Dataset_Brugman['Na2O_Liq']+Cali_Dataset_Brugman['K2O_Liq'],\n",
    "         'sk', mfc='cyan')\n",
    "axes['A'].plot(Cali_Dataset_Wang['SiO2_Liq'], Cali_Dataset_Wang['Na2O_Liq']+Cali_Dataset_Wang['K2O_Liq'],\n",
    "         'oy', mfc='yellow', ms=3)\n",
    "axes['A'].plot(Cali_Dataset_Neave['SiO2_Liq'], Cali_Dataset_Neave['Na2O_Liq']+Cali_Dataset_Neave['K2O_Liq'],\n",
    "         'dk', mfc='red')\n",
    "axes['A'].plot(Cali_Dataset_Masotta['SiO2_Liq'], Cali_Dataset_Masotta['Na2O_Liq']+Cali_Dataset_Masotta['K2O_Liq'],\n",
    "          'pb', mfc='None', ms=4, mew=1)\n",
    "axes['A'].set_xlim([35, 80])\n",
    "axes['A'].set_xlabel('SiO$_2$ (wt%)')\n",
    "axes['A'].set_ylabel('Na$_2$O + K$_2$O (wt%)')\n",
    "\n",
    "###\n",
    "axes['B'].plot(Cali_Dataset_Putirka['Mgno_Cpx'], Cali_Dataset_Putirka['Al2O3_Cpx'],\n",
    "         's', mec='grey', mfc='grey', ms=2)\n",
    "axes['B'].plot(Cali_Dataset_Brugman['Mgno_Cpx'], Cali_Dataset_Brugman['Al2O3_Cpx'],\n",
    "         'sk', mfc='cyan')\n",
    "axes['B'].plot(Cali_Dataset_Wang['Mgno_Cpx'], Cali_Dataset_Wang['Al2O3_Cpx'],\n",
    "         'oy', mfc='yellow', ms=3)\n",
    "axes['B'].plot(Cali_Dataset_Neave['Mgno_Cpx'], Cali_Dataset_Neave['Al2O3_Cpx'],\n",
    "         'dk', mfc='red')\n",
    "axes['B'].plot(Cali_Dataset_Masotta['Mgno_Cpx'], Cali_Dataset_Masotta['Al2O3_Cpx'],\n",
    "         'pb', mfc='None', ms=4, mew=1)\n",
    "#axes['B'].set_xlim([35, 80])\n",
    "axes['B'].set_xlabel('Mg# Cpx')\n",
    "axes['B'].set_ylabel('Al$_2$O$_3$ Cpx (wt%)')\n",
    "\n",
    "import tasplot\n",
    "import matplotlib.pyplot as plt\n",
    "\n",
    "\n",
    "axes['C'].plot(Cali_Dataset_Putirka['T_K']-273.15, Cali_Dataset_Putirka['P_kbar'],\n",
    "         's', mec='grey', mfc='grey', ms=2)\n",
    "axes['C'].plot(Cali_Dataset_Brugman['T_K']-273.15, Cali_Dataset_Brugman['P_kbar'],\n",
    "         'sk', mfc='cyan')\n",
    "axes['C'].plot(Cali_Dataset_Wang['T_K']-273.15, Cali_Dataset_Wang['P_kbar'],\n",
    "         'oy', mfc='yellow', ms=3)\n",
    "axes['C'].plot(Cali_Dataset_Neave['T_K']-273.15, Cali_Dataset_Neave['P_kbar'],\n",
    "         'dk', mfc='red')\n",
    "axes['C'].plot(Cali_Dataset_Masotta['T_K']-273.15, Cali_Dataset_Masotta['P_kbar'],\n",
    "         'pb', mfc='None', ms=4, mew=1)\n",
    "\n",
    "axes['C'].set_ylim([-1, 20.5])\n",
    "axes['C'].set_xlim([600, 1500])\n",
    "axes['C'].set_xlabel('T (°C)')\n",
    "\n",
    "axes['C'].set_ylabel('P (kbar)')\n",
    "#ax1 = fig.add_subplot(111)\n",
    "tasplot.add_LeMaitre_fields(axes['A'])\n",
    "for t in axes['A'].texts[:]:\n",
    "    t.remove()\n",
    "    #ax1.remove_artist(t)\n",
    "\n",
    "fig.tight_layout()\n",
    "fig.savefig('Cali_Dataset_Cpx.png', dpi=200)"
   ]
  },
  {
   "cell_type": "code",
   "execution_count": null,
   "metadata": {},
   "outputs": [],
   "source": []
  }
 ],
 "metadata": {
  "kernelspec": {
   "display_name": "Python 3 (ipykernel)",
   "language": "python",
   "name": "python3"
  },
  "language_info": {
   "codemirror_mode": {
    "name": "ipython",
    "version": 3
   },
   "file_extension": ".py",
   "mimetype": "text/x-python",
   "name": "python",
   "nbconvert_exporter": "python",
   "pygments_lexer": "ipython3",
   "version": "3.9.17"
  }
 },
 "nbformat": 4,
 "nbformat_minor": 4
}
