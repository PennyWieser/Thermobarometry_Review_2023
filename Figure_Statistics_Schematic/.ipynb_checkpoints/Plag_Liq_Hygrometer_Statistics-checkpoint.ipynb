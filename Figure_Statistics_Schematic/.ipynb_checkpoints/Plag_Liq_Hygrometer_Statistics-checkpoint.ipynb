{
 "cells": [
  {
   "cell_type": "code",
   "execution_count": 1,
   "metadata": {},
   "outputs": [],
   "source": [
    "import numpy as np\n",
    "import pandas as pd\n",
    "import Thermobar as pt\n",
    "import matplotlib.pyplot as plt\n",
    "import matplotlib as mpl\n",
    "from matplotlib import cm\n",
    "import warnings as w\n",
    "pd.options.display.max_columns = None"
   ]
  },
  {
   "cell_type": "code",
   "execution_count": 2,
   "metadata": {},
   "outputs": [],
   "source": [
    "plt.style.use(\"seaborn-colorblind\")\n",
    "plt.rcParams[\"font.family\"] = 'arial'\n",
    "plt.rcParams[\"font.size\"] =12\n",
    "plt.rcParams[\"mathtext.default\"] = \"regular\"\n",
    "plt.rcParams[\"mathtext.fontset\"] = \"dejavusans\"\n",
    "plt.rcParams['patch.linewidth'] = 1\n",
    "plt.rcParams['axes.linewidth'] = 1\n",
    "plt.rcParams[\"xtick.direction\"] = \"in\"\n",
    "plt.rcParams[\"ytick.direction\"] = \"in\"\n",
    "plt.rcParams[\"ytick.direction\"] = \"in\"\n",
    "plt.rcParams[\"xtick.major.size\"] = 6 # Sets length of ticks\n",
    "plt.rcParams[\"ytick.major.size\"] = 4 # Sets length of ticks\n",
    "plt.rcParams[\"ytick.labelsize\"] = 12 # Sets size of numbers on tick marks\n",
    "plt.rcParams[\"xtick.labelsize\"] = 12 # Sets size of numbers on tick marks\n",
    "plt.rcParams[\"axes.titlesize\"] = 14 # Overall title\n",
    "plt.rcParams[\"axes.labelsize\"] = 14 # Axes labels"
   ]
  },
  {
   "cell_type": "markdown",
   "metadata": {},
   "source": [
    "## Waters and Lange calibratin datat"
   ]
  },
  {
   "cell_type": "code",
   "execution_count": 3,
   "metadata": {},
   "outputs": [],
   "source": [
    "Cali=pt.return_cali_dataset(model=\"Waters2015\")\n",
    "Cali\n",
    "CalcWL_cali=pt.calculate_fspar_liq_hygr(XAn=Cali['XAn'], XAb=Cali['XAb'], T=pd.Series(Cali['T\\n(°C)']+0.00001+273.15),\n",
    "                                        liq_comps=Cali, equationH=\"H_Waters2015\", P=Cali['P\\n(bars)']/1000)"
   ]
  },
  {
   "cell_type": "code",
   "execution_count": 5,
   "metadata": {},
   "outputs": [
    {
     "name": "stderr",
     "output_type": "stream",
     "text": [
      "C:\\Users\\penny\\AppData\\Local\\Temp\\ipykernel_11368\\2590050452.py:6: UserWarning: This pattern is interpreted as a regular expression, and has match groups. To actually get the groups, use str.extract.\n",
      "  notinKeith=(Plag_Glass['Citation_x'].str.contains('Mercer, C.N., and Johnston, A.D. (2008)'))|(Plag_Glass['Citation_x'].str.contains('Alonso-Perez, R., Müntener, O., and Ulmer, P. (2009)'))\n"
     ]
    }
   ],
   "source": [
    "out=pt.import_excel(r'../LEPR_Wet_Stitched_Sept2022.xlsx', sheet_name='Plag-Liq')\n",
    "myPlags1=out['Plags']\n",
    "myLiquids1=out['Liqs']\n",
    "Plag_Glass=out['my_input']\n",
    "notinLEPR= Plag_Glass['Citation_x'].str.contains('notinLEPR')\n",
    "notinKeith=(Plag_Glass['Citation_x'].str.contains('Mercer, C.N., and Johnston, A.D. (2008)'))|(Plag_Glass['Citation_x'].str.contains('Alonso-Perez, R., Müntener, O., and Ulmer, P. (2009)'))\n",
    "InWaters=((Plag_Glass['Citation_x'].str.contains('Berndt2005_notinLEPR'))|\n",
    "(Plag_Glass['Citation_x'].str.contains('Rader2013_notinLEPR'))|\n",
    "(Plag_Glass['Citation_x'].str.contains('Rader2013_notinLEPR'))|\n",
    "(Plag_Glass['Citation_x'].str.contains('Parmon2011_notinLEPR'))|\n",
    "(Plag_Glass['Citation_x'].str.contains('Costa2004_notinLEPR'))|\n",
    "(Plag_Glass['Citation_x'].str.contains('Waters2020_notinLEPR'))\n",
    ")\n",
    "newMask=notinLEPR|notinKeith\n",
    "newMask=newMask.fillna(False)\n",
    "\n",
    "mask_1GPa=Plag_Glass['P_kbar_x']<13\n",
    "mask_1GPa=mask_1GPa.fillna(False)\n",
    "\n",
    "Press_new=mask_1GPa&newMask&(~InWaters)\n",
    "Press_new=Press_new.fillna(False)\n",
    "\n",
    "Eq_tests=pt.calculate_plag_liq_eq_tests(liq_comps=myLiquids1, plag_comps=myPlags1, P=Plag_Glass['P_kbar_x'], T=Plag_Glass['T_K_x'])\n",
    "# Keith suggests best equilibrium test is Observed Kd (Ab-An)\n",
    "Eq_Mask=Plag_Glass['T_K_x']>0\n",
    "xT=Plag_Glass['T_K_x'].loc[Press_new&Eq_Mask]\n",
    "xH=Plag_Glass['H2O_Liq'].loc[Press_new&Eq_Mask]\n",
    "\n",
    "x=Plag_Glass['P_kbar_x'].loc[Press_new&Eq_Mask]\n",
    "\n",
    "#Filt=Press_new&Eq_Mask"
   ]
  },
  {
   "cell_type": "markdown",
   "metadata": {},
   "source": [
    "## sorting by water amounts"
   ]
  },
  {
   "cell_type": "code",
   "execution_count": 6,
   "metadata": {},
   "outputs": [],
   "source": [
    "Test_input_All=out['my_input']\n",
    "VBD_cal_mask=Test_input_All['H2O_Liq_Method'].str.contains('VBD_GSC')\n",
    "VBD_cal_mask=VBD_cal_mask.fillna(False)\n",
    "\n",
    "VBD_mask=Test_input_All['H2O_Liq_Method'].str.contains('VBD')\n",
    "VBD_mask=VBD_mask.fillna(False)\n",
    "FTIR_mask=Test_input_All['H2O_Liq_Method'].str.contains('FTIR')\n",
    "FTIR_mask=FTIR_mask.fillna(False)\n",
    "SIMS_mask=Test_input_All['H2O_Liq_Method'].str.contains('SIMS')\n",
    "SIMS_mask=SIMS_mask.fillna(False)\n",
    "Raman_mask=Test_input_All['H2O_Liq_Method'].str.contains('Raman')\n",
    "Raman_mask=Raman_mask.fillna(False)\n",
    "Sol_mask=Test_input_All['H2O_Liq_Method'].str.contains('Sol')\n",
    "Sol_mask=Sol_mask.fillna(False)\n",
    "balance_mask=Test_input_All['H2O_Liq_Method'].str.contains('balance')\n",
    "balance_mask=balance_mask.fillna(False)\n",
    "\n",
    "added_mask=Test_input_All['H2O_Liq_Method'].str.contains('added')\n",
    "added_mask=added_mask.fillna(False)\n",
    "Quantmethod1=FTIR_mask|SIMS_mask|Raman_mask\n",
    "\n",
    "nonzero=Test_input_All['H2O_Liq']>0\n",
    "Quantmethod=(VBD_cal_mask|FTIR_mask|SIMS_mask|Raman_mask)&nonzero\n",
    "NonQuantmethod=(VBD_mask&~VBD_cal_mask)|balance_mask|added_mask\n",
    "NoH2O=Test_input_All['H2O_Liq_Method']==0\n",
    "NoH2O=NoH2O.fillna(False)\n",
    "\n"
   ]
  },
  {
   "cell_type": "code",
   "execution_count": 21,
   "metadata": {},
   "outputs": [
    {
     "data": {
      "text/plain": [
       "array(['Kraw2013_notinLEPR', 'Mandler2013_notinLEPR',\n",
       "       'Costa2004_notinLEPR', 'Andujar2015_notinLEPR',\n",
       "       'Waters2020_notinLEPR'], dtype=object)"
      ]
     },
     "execution_count": 21,
     "metadata": {},
     "output_type": "execute_result"
    }
   ],
   "source": [
    "Test_input_All['Citation_x'].loc[Sol_mask].unique()"
   ]
  },
  {
   "cell_type": "markdown",
   "metadata": {},
   "source": [
    "## How many do different measurement techniques"
   ]
  },
  {
   "cell_type": "code",
   "execution_count": 17,
   "metadata": {},
   "outputs": [
    {
     "name": "stdout",
     "output_type": "stream",
     "text": [
      "Truly quantiative methods\n",
      "0.45345345345345345\n",
      "New ones doing FTIR\n",
      "0.3153153153153153\n",
      "New ones doing SIMS\n",
      "0.06906906906906907\n",
      "New ones doing Raman\n",
      "0.06906906906906907\n",
      "Ones using solubility models\n",
      "0.04504504504504504\n",
      "VBD method calibrated\n",
      "0.2222222222222222\n",
      "VBD method not calibrated\n",
      "0.22522522522522526\n"
     ]
    }
   ],
   "source": [
    "total_len=sum(Press_new)\n",
    "print('Truly quantiative methods')\n",
    "print(sum(Quantmethod1&Press_new)/total_len)\n",
    "print('New ones doing FTIR')\n",
    "print(sum(FTIR_mask&Press_new)/total_len)\n",
    "print('New ones doing SIMS')\n",
    "print(sum(SIMS_mask&Press_new)/total_len)\n",
    "print('New ones doing Raman')\n",
    "print(sum(Raman_mask&Press_new)/total_len)\n",
    "print('Ones using solubility models')\n",
    "print(sum(Sol_mask&Press_new)/total_len)\n",
    "print('VBD method calibrated')\n",
    "print(sum(VBD_cal_mask&Press_new)/total_len)\n",
    "print('VBD method not calibrated')\n",
    "print(sum(VBD_mask&Press_new)/total_len-sum(VBD_cal_mask&Press_new)/total_len)\n",
    "\n"
   ]
  },
  {
   "cell_type": "code",
   "execution_count": 9,
   "metadata": {},
   "outputs": [
    {
     "data": {
      "text/plain": [
       "333"
      ]
     },
     "execution_count": 9,
     "metadata": {},
     "output_type": "execute_result"
    }
   ],
   "source": [
    "sum(Press_new)"
   ]
  },
  {
   "cell_type": "code",
   "execution_count": 14,
   "metadata": {},
   "outputs": [
    {
     "data": {
      "text/plain": [
       "0      False\n",
       "1      False\n",
       "2      False\n",
       "3      False\n",
       "4      False\n",
       "       ...  \n",
       "722    False\n",
       "723    False\n",
       "724    False\n",
       "725    False\n",
       "726    False\n",
       "Length: 727, dtype: bool"
      ]
     },
     "execution_count": 14,
     "metadata": {},
     "output_type": "execute_result"
    }
   ],
   "source": [
    "Quantmethod"
   ]
  },
  {
   "cell_type": "code",
   "execution_count": 15,
   "metadata": {},
   "outputs": [
    {
     "data": {
      "text/plain": [
       "0      False\n",
       "1      False\n",
       "2      False\n",
       "3      False\n",
       "4      False\n",
       "       ...  \n",
       "722     True\n",
       "723     True\n",
       "724    False\n",
       "725    False\n",
       "726    False\n",
       "Length: 727, dtype: bool"
      ]
     },
     "execution_count": 15,
     "metadata": {},
     "output_type": "execute_result"
    }
   ],
   "source": [
    "Press_new"
   ]
  },
  {
   "cell_type": "markdown",
   "metadata": {},
   "source": [
    "## If we known temperature"
   ]
  },
  {
   "cell_type": "code",
   "execution_count": 8,
   "metadata": {},
   "outputs": [],
   "source": [
    "Calc_Global=pt.calculate_fspar_liq_hygr(liq_comps=myLiquids1, plag_comps=myPlags1, \n",
    "        equationH=\"H_Waters2015\",  T=Plag_Glass['T_K_x'],\n",
    "                                       P=Plag_Glass['P_kbar_x'])"
   ]
  },
  {
   "cell_type": "code",
   "execution_count": 16,
   "metadata": {},
   "outputs": [
    {
     "data": {
      "text/plain": [
       "[<matplotlib.lines.Line2D at 0x2392167bdf0>]"
      ]
     },
     "execution_count": 16,
     "metadata": {},
     "output_type": "execute_result"
    },
    {
     "data": {
      "image/png": "[encoded data removed]",
      "text/plain": [
       "<Figure size 432x288 with 1 Axes>"
      ]
     },
     "metadata": {
      "needs_background": "light"
     },
     "output_type": "display_data"
    }
   ],
   "source": [
    "plt.plot(Calc_Global['H2O_calc'].loc[Quantmethod&Press_new], \n",
    "         Plag_Glass['H2O_Liq'].loc[Quantmethod&Press_new], 'ok')"
   ]
  },
  {
   "cell_type": "markdown",
   "metadata": {},
   "source": [
    "## IF we have to iterate temperature"
   ]
  },
  {
   "cell_type": "code",
   "execution_count": 21,
   "metadata": {},
   "outputs": [
    {
     "name": "stdout",
     "output_type": "stream",
     "text": [
      "20\n"
     ]
    }
   ],
   "source": [
    "Calc_Global_It=pt.calculate_fspar_liq_temp_hygr(liq_comps=myLiquids1, plag_comps=myPlags1, \n",
    "        equationH=\"H_Waters2015\",  equationT=\"T_Put2008_eq24a\",\n",
    "                                       P=Plag_Glass['P_kbar_x'])\n",
    "pltiter=Calc_Global_It['T_H_calc']"
   ]
  },
  {
   "cell_type": "code",
   "execution_count": 23,
   "metadata": {},
   "outputs": [
    {
     "data": {
      "text/plain": [
       "[<matplotlib.lines.Line2D at 0x239218881f0>]"
      ]
     },
     "execution_count": 23,
     "metadata": {},
     "output_type": "execute_result"
    },
    {
     "data": {
      "image/png": "[encoded data removed]",
      "text/plain": [
       "<Figure size 432x288 with 1 Axes>"
      ]
     },
     "metadata": {
      "needs_background": "light"
     },
     "output_type": "display_data"
    }
   ],
   "source": [
    "plt.plot( \n",
    "         Plag_Glass['H2O_Liq'].loc[Quantmethod&Press_new],\n",
    "    pltiter['H2O_calc'].loc[Quantmethod&Press_new],'ok')"
   ]
  },
  {
   "cell_type": "markdown",
   "metadata": {},
   "source": [
    "## Summary statistical figure"
   ]
  },
  {
   "cell_type": "code",
   "execution_count": 30,
   "metadata": {},
   "outputs": [
    {
     "data": {
      "image/png": "[encoded data removed]",
      "text/plain": [
       "<Figure size 864x576 with 6 Axes>"
      ]
     },
     "metadata": {
      "needs_background": "light"
     },
     "output_type": "display_data"
    }
   ],
   "source": [
    "fig, ((ax0, ax1, ax2), (ax3, ax4, ax5)) = plt.subplots(2,3, figsize = (12,8)) # adjust dimensions of figure here\n",
    "\n",
    "maxH2O=Plag_Glass['H2O_Liq']<np.max(Cali['H2O_Liq'])\n",
    "#### Assesing calibration. \n",
    "ax3.plot( Cali['H2O_Liq'],CalcWL_cali['H2O_calc'], 'sk', mfc='cornflowerblue')\n",
    "ax4.plot(Plag_Glass['H2O_Liq'].loc[Quantmethod&Press_new&maxH2O], \n",
    "         Calc_Global['H2O_calc'].loc[Quantmethod&Press_new&maxH2O], \n",
    "         'pk', mfc='cornflowerblue')\n",
    "\n",
    "ax5.plot( \n",
    "         Plag_Glass['H2O_Liq'].loc[Quantmethod&Press_new&maxH2O],\n",
    "    pltiter['H2O_calc'].loc[Quantmethod&Press_new&maxH2O],'pk', mfc='cornflowerblue')\n",
    "ax3.plot([0, 7], [0, 7], '-k')\n",
    "ax4.plot([0, 7], [0, 7], '-k')\n",
    "ax5.plot([0, 7], [0, 7], '-k')\n",
    "\n",
    "plt.subplots_adjust(wspace=0.2, hspace=0.4)\n",
    "fig.savefig('HYgroStatitics.png', dpi=200)"
   ]
  },
  {
   "cell_type": "code",
   "execution_count": 31,
   "metadata": {},
   "outputs": [
    {
     "data": {
      "text/plain": [
       "{'R2': '0.98',\n",
       " 'RMSE': '0.35',\n",
       " 'RMSE_num': 0.35,\n",
       " 'P_val': '0.000',\n",
       " 'Median': '0.03',\n",
       " 'Mean': '0.02',\n",
       " 'Int': array([0.05104115]),\n",
       " 'Grad': array([0.98757014])}"
      ]
     },
     "execution_count": 31,
     "metadata": {},
     "output_type": "execute_result"
    }
   ],
   "source": [
    "pt.calculate_R2(Cali['H2O_Liq'],CalcWL_cali['H2O_calc'],\n",
    "                xy=False)"
   ]
  },
  {
   "cell_type": "code",
   "execution_count": 33,
   "metadata": {},
   "outputs": [
    {
     "data": {
      "text/plain": [
       "{'R2': '0.52',\n",
       " 'RMSE': '1.45',\n",
       " 'RMSE_num': 1.45,\n",
       " 'P_val': '0.000',\n",
       " 'Median': '-0.26',\n",
       " 'Mean': '-0.20',\n",
       " 'Int': array([0.68023575]),\n",
       " 'Grad': array([0.64872725])}"
      ]
     },
     "execution_count": 33,
     "metadata": {},
     "output_type": "execute_result"
    }
   ],
   "source": [
    "pt.calculate_R2(Plag_Glass['H2O_Liq'].loc[Quantmethod&Press_new&maxH2O], \n",
    "         pltiter['H2O_calc'].loc[Quantmethod&Press_new&maxH2O],\n",
    "                xy=False)"
   ]
  },
  {
   "cell_type": "code",
   "execution_count": null,
   "metadata": {},
   "outputs": [],
   "source": [
    "pt.calculate_R2(Plag_Glass['H2O_Liq'].loc[Quantmethod&Press_new&maxH2O], \n",
    "         Calc_Global['H2O_calc'].loc[Quantmethod&Press_new&maxH2O],\n",
    "                xy=False)"
   ]
  }
 ],
 "metadata": {
  "kernelspec": {
   "display_name": "Python 3 (ipykernel)",
   "language": "python",
   "name": "python3"
  },
  "language_info": {
   "codemirror_mode": {
    "name": "ipython",
    "version": 3
   },
   "file_extension": ".py",
   "mimetype": "text/x-python",
   "name": "python",
   "nbconvert_exporter": "python",
   "pygments_lexer": "ipython3",
   "version": "3.9.13"
  }
 },
 "nbformat": 4,
 "nbformat_minor": 4
}
