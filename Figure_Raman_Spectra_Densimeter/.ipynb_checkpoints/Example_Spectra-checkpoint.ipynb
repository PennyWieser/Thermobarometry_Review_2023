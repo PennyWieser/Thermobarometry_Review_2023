{
 "cells": [
  {
   "cell_type": "code",
   "execution_count": 1,
   "id": "7c4bb1bc-6817-4b30-a896-1803267b11a2",
   "metadata": {},
   "outputs": [],
   "source": [
    "import numpy as np\n",
    "import pandas as pd\n",
    "import matplotlib.pyplot as plt\n",
    "import sys\n",
    "# put diad fit somewhere\n",
    "sys.path.append(r'C:\\Users\\penny\\OneDrive - Oregon State University\\Postdoc\\MeltInclusion_SampleStuff\\Peak_Fitting_Tests\\Example_notebooks_Spectra')\n",
    "import DiadFit as pf\n",
    "from lmfit.models import GaussianModel, VoigtModel, LinearModel, ConstantModel, QuadraticModel, LorentzianModel"
   ]
  },
  {
   "cell_type": "code",
   "execution_count": null,
   "id": "199593c3-551e-4697-a98c-3dbe5ab89310",
   "metadata": {},
   "outputs": [],
   "source": []
  },
  {
   "cell_type": "code",
   "execution_count": 2,
   "id": "1b07f4d0-8893-4d32-90d3-90a385d8b0f4",
   "metadata": {},
   "outputs": [
    {
     "name": "stdout",
     "output_type": "stream",
     "text": [
      "got working directory\n",
      "C:\\Users\\penny\\Google Drive\\My Drive\\Berkeley_NEW\\Barometry_Review_Thoughts\\Supporting_Information\\Figure_Raman_Spectra_Densimeter\n",
      "11_TL_20_MI2.txt\n"
     ]
    }
   ],
   "source": [
    "#path=r\"C:\\Users\\penny\\OneDrive - Oregon State University\\Postdoc\\MeltInclusion_SampleStuff\\Raman\\DAY2\\Spectra\"\n",
    "import os\n",
    "path=os.getcwd()\n",
    "filename=\"11_TL_20_MI2.txt\"\n",
    "data_all=pf.get_data(path=None, filename=filename, filetype='Witec_ASCII')\n",
    "spec=(data_all[:, 0]>1341.5)&(data_all[:, 0]<1342)\n",
    "data=data_all[~spec]"
   ]
  },
  {
   "cell_type": "code",
   "execution_count": 3,
   "id": "7baa5592-994c-4d7f-ad9b-f960328fce6d",
   "metadata": {},
   "outputs": [
    {
     "data": {
      "image/png": "[encoded data removed]",
      "text/plain": [
       "<Figure size 270x202.5 with 1 Axes>"
      ]
     },
     "metadata": {},
     "output_type": "display_data"
    }
   ],
   "source": [
    "plt.rcParams['patch.linewidth'] = 0.5\n",
    "plt.rcParams['axes.linewidth'] = 0.5\n",
    "fig, (ax1) = plt.subplots(1, 1, figsize=(3*0.9,2.7*0.75), sharey=True)\n",
    "ax1.plot(data[:, 0], data[:, 1], '-r', lw=1)\n",
    "ax1.set_xlim([1250, 1420])\n",
    "#ax1.set_xlabel('Wavenumber (cm$^{-1}$')\n",
    "#ax1.set_ylabel('Intensity')\n",
    "ax1.tick_params(direction=\"in\")\n",
    "fig.savefig('Example_Spectra.png', dpi=300)"
   ]
  },
  {
   "cell_type": "code",
   "execution_count": 4,
   "id": "d1adfbbd-824b-43c7-b76e-b435dd000001",
   "metadata": {},
   "outputs": [
    {
     "data": {
      "text/plain": [
       "548.8888888888888"
      ]
     },
     "execution_count": 4,
     "metadata": {},
     "output_type": "execute_result"
    }
   ],
   "source": [
    "(10**6) * (0.026*0.057)/(2.700)"
   ]
  },
  {
   "cell_type": "code",
   "execution_count": 5,
   "id": "c5db174a-9ee3-4546-8547-f48a9fe49fc8",
   "metadata": {},
   "outputs": [
    {
     "data": {
      "text/plain": [
       "1714.0740740740737"
      ]
     },
     "execution_count": 5,
     "metadata": {},
     "output_type": "execute_result"
    }
   ],
   "source": [
    "(10**6) * (0.026*0.178)/(2.700)"
   ]
  },
  {
   "cell_type": "code",
   "execution_count": 6,
   "id": "ce5f5cb5-7db0-4f7f-9c16-4f87dce8377e",
   "metadata": {},
   "outputs": [
    {
     "data": {
      "text/plain": [
       "3.1228070175438596"
      ]
     },
     "execution_count": 6,
     "metadata": {},
     "output_type": "execute_result"
    }
   ],
   "source": [
    "1714.0740740740737/548.8888888888888"
   ]
  }
 ],
 "metadata": {
  "kernelspec": {
   "display_name": "Python 3 (ipykernel)",
   "language": "python",
   "name": "python3"
  },
  "language_info": {
   "codemirror_mode": {
    "name": "ipython",
    "version": 3
   },
   "file_extension": ".py",
   "mimetype": "text/x-python",
   "name": "python",
   "nbconvert_exporter": "python",
   "pygments_lexer": "ipython3",
   "version": "3.9.13"
  }
 },
 "nbformat": 4,
 "nbformat_minor": 5
}
