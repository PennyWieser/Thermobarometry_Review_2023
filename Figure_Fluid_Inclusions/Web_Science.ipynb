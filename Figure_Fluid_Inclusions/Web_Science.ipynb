{
 "cells": [
  {
   "cell_type": "code",
   "execution_count": null,
   "id": "426ce004-a124-402d-9b51-f7f7edc3bfa3",
   "metadata": {},
   "outputs": [],
   "source": [
    "import numpy as np\n",
    "import pandas as pd\n",
    "import Thermobar as pt\n",
    "import matplotlib.pyplot as plt\n",
    "import matplotlib as mpl\n",
    "from matplotlib import cm\n",
    "import warnings as w\n",
    "pd.options.display.max_columns = None"
   ]
  },
  {
   "cell_type": "code",
   "execution_count": null,
   "id": "9ba46dba-ecaf-4a5e-a645-da0157a35224",
   "metadata": {},
   "outputs": [],
   "source": [
    "plt.style.use(\"seaborn-colorblind\")\n",
    "plt.rcParams[\"font.family\"] = 'arial'\n",
    "plt.rcParams[\"font.size\"] =14\n",
    "plt.rcParams[\"mathtext.default\"] = \"regular\"\n",
    "plt.rcParams[\"mathtext.fontset\"] = \"dejavusans\"\n",
    "plt.rcParams['patch.linewidth'] = 1\n",
    "plt.rcParams['axes.linewidth'] = 1\n",
    "plt.rcParams[\"xtick.direction\"] = \"in\"\n",
    "plt.rcParams[\"ytick.direction\"] = \"in\"\n",
    "plt.rcParams[\"ytick.direction\"] = \"in\"\n",
    "plt.rcParams[\"xtick.major.size\"] = 6 # Sets length of ticks\n",
    "plt.rcParams[\"ytick.major.size\"] = 4 # Sets length of ticks\n",
    "plt.rcParams[\"ytick.labelsize\"] = 16 # Sets size of numbers on tick marks\n",
    "plt.rcParams[\"xtick.labelsize\"] = 16 # Sets size of numbers on tick marks\n",
    "plt.rcParams[\"axes.titlesize\"] = 14 # Overall title\n",
    "plt.rcParams[\"axes.labelsize\"] = 16 # Axes labels"
   ]
  },
  {
   "cell_type": "code",
   "execution_count": null,
   "id": "61aeaa34-c943-45a1-bb68-50d032a5523c",
   "metadata": {},
   "outputs": [],
   "source": [
    "Data_Barometry=pd.read_excel('Web_of_SCience_Queries.xlsx', sheet_name='Barometry_Python')\n",
    "Data_FIs=pd.read_excel('Web_of_SCience_Queries.xlsx', sheet_name='FI_python_Formatted')\n",
    "Data_MIs=pd.read_excel('Web_of_SCience_Queries.xlsx', sheet_name='MI_Python_Formatted')\n",
    "\n"
   ]
  },
  {
   "cell_type": "code",
   "execution_count": null,
   "id": "05df5cfa-7bcd-4037-87b8-73542682e5c4",
   "metadata": {},
   "outputs": [],
   "source": [
    "bins_lin_Bar=np.linspace(np.min(Data_Barometry['Publication Year']), np.max(Data_Barometry['Publication Year']),\n",
    "                    np.max(Data_Barometry['Publication Year'])-np.min(Data_Barometry['Publication Year'])+1\n",
    "                    )\n",
    "bins_lin_FIs=np.linspace(np.min(Data_FIs['Publication Year']), np.max(Data_FIs['Publication Year']),\n",
    "                    np.max(Data_FIs['Publication Year'])-np.min(Data_FIs['Publication Year'])+1\n",
    "                    )\n",
    "bins_lin_MIs=np.linspace(np.min(Data_MIs['Publication Year']), np.max(Data_MIs['Publication Year']),\n",
    "                    np.max(Data_MIs['Publication Year'])-np.min(Data_MIs['Publication Year'])+1\n",
    "                    )"
   ]
  },
  {
   "cell_type": "code",
   "execution_count": null,
   "id": "649e6057-5658-414d-b27d-d154ad825a36",
   "metadata": {},
   "outputs": [],
   "source": [
    "sum(Data_MIs['Publication Year']==2020)"
   ]
  },
  {
   "cell_type": "markdown",
   "id": "6b8c0e5c-7292-4f3f-a451-f1babed98b4e",
   "metadata": {},
   "source": [
    "## Loop over dates"
   ]
  },
  {
   "cell_type": "code",
   "execution_count": null,
   "id": "cb08b31d-f42e-495e-a99e-7915cee5ac44",
   "metadata": {},
   "outputs": [],
   "source": [
    "Data_MIs.iloc[:, 21]\n",
    "Dates=np.linspace(1965, 2021, (2021-1965)+1)\n",
    "Non_Cum_Sum_Cite_MI=np.empty(2021-1965+1)\n",
    "Cum_Sum_Cite_MI=np.empty(2021-1965+1)\n",
    "Non_Cum_Sum_Cite_FI=np.empty(2021-1965+1)\n",
    "Cum_Sum_Cite_FI=np.empty(2021-1965+1)\n",
    "Non_Cum_Sum_Cite_Bar=np.empty(2021-1965+1)\n",
    "Cum_Sum_Cite_Bar=np.empty(2021-1965+1)\n",
    "\n",
    "Non_Cum_Sum_Study_MI=np.empty(2021-1965+1)\n",
    "Cum_Sum_Study_MI=np.empty(2021-1965+1)\n",
    "Non_Cum_Sum_Study_FI=np.empty(2021-1965+1)\n",
    "Cum_Sum_Study_FI=np.empty(2021-1965+1)\n",
    "Non_Cum_Sum_Study_Bar=np.empty(2021-1965+1)\n",
    "Cum_Sum_Study_Bar=np.empty(2021-1965+1)\n",
    "\n",
    "for i in range(0, (2022-1965)):\n",
    "    Non_Cum_Sum_Cite_MI[i]=np.sum(Data_MIs.iloc[:, i+21])\n",
    "    Non_Cum_Sum_Cite_FI[i]=np.sum(Data_FIs.iloc[:, i+21])\n",
    "    Non_Cum_Sum_Cite_Bar[i]=np.sum(Data_Barometry.iloc[:, i+21])  \n",
    "    Non_Cum_Sum_Study_MI[i]=sum(Data_MIs['Publication Year']==(i+1965))\n",
    "    Non_Cum_Sum_Study_FI[i]=sum(Data_FIs['Publication Year']==(i+1965))\n",
    "    Non_Cum_Sum_Study_Bar[i]=sum(Data_Barometry['Publication Year']==(i+1965)) \n",
    "    \n",
    "    if i==0:\n",
    "        Cum_Sum_Cite_MI[i]=Non_Cum_Sum_Cite_MI[i]\n",
    "        Cum_Sum_Cite_FI[i]=Non_Cum_Sum_Cite_FI[i]\n",
    "        Cum_Sum_Cite_Bar[i]=Non_Cum_Sum_Cite_Bar[i]\n",
    "        Cum_Sum_Study_MI[i]=Non_Cum_Sum_Study_MI[i]\n",
    "        Cum_Sum_Study_FI[i]=Non_Cum_Sum_Study_FI[i]\n",
    "        Cum_Sum_Study_Bar[i]=Non_Cum_Sum_Study_Bar[i]        \n",
    "    if i>0:\n",
    "        Cum_Sum_Cite_MI[i]=Cum_Sum_Cite_MI[i-1]+Non_Cum_Sum_Cite_MI[i]\n",
    "        Cum_Sum_Cite_FI[i]=Cum_Sum_Cite_FI[i-1]+Non_Cum_Sum_Cite_FI[i]\n",
    "        Cum_Sum_Cite_Bar[i]=Cum_Sum_Cite_Bar[i-1]+Non_Cum_Sum_Cite_Bar[i]  \n",
    "    \n",
    "        Cum_Sum_Study_MI[i]=Cum_Sum_Study_MI[i-1]+Non_Cum_Sum_Study_MI[i]\n",
    "        Cum_Sum_Study_FI[i]=Cum_Sum_Study_FI[i-1]+Non_Cum_Sum_Study_FI[i]\n",
    "        Cum_Sum_Study_Bar[i]=Cum_Sum_Study_Bar[i-1]+Non_Cum_Sum_Study_Bar[i]"
   ]
  },
  {
   "cell_type": "code",
   "execution_count": null,
   "id": "ecbf8b38-0d69-4b36-907e-90a6199439ef",
   "metadata": {},
   "outputs": [],
   "source": [
    "plt.plot(Dates, Cum_Sum_Cite_MI, '-', color='peru')\n",
    "plt.plot(Dates, Cum_Sum_Cite_FI, '-k')\n",
    "plt.plot(Dates, Cum_Sum_Cite_Bar, '-g')\n",
    "plt.xlim([1995, 2021])"
   ]
  },
  {
   "cell_type": "code",
   "execution_count": null,
   "id": "5b7e923f-1458-4a89-b9fc-b8e3541a1161",
   "metadata": {},
   "outputs": [],
   "source": [
    "plt.plot(Dates, Cum_Sum_Study_MI, '-', color='peru')\n",
    "plt.plot(Dates, Cum_Sum_Study_FI, '-k')\n",
    "plt.plot(Dates, Cum_Sum_Study_Bar, '-g')\n",
    "plt.xlim([1995, 2021])\n",
    "plt.ylim([0, 120])"
   ]
  },
  {
   "cell_type": "code",
   "execution_count": null,
   "id": "372a22df-7aa3-474c-ad47-d273648e6818",
   "metadata": {},
   "outputs": [],
   "source": [
    "fig, (ax1, ax2) = plt.subplots(1, 2, figsize=(10,5), sharex=True)\n",
    "ax1.plot(Dates, Cum_Sum_Study_MI, '-', color='peru')\n",
    "ax1.plot(Dates, Cum_Sum_Study_FI, '-k')\n",
    "ax1.plot(Dates, Cum_Sum_Study_Bar, '-g')\n",
    "\n",
    "ax2.plot(Dates, Cum_Sum_Cite_MI, '-', color='peru')\n",
    "ax2.plot(Dates, Cum_Sum_Cite_FI, '-k')\n",
    "ax2.plot(Dates, Cum_Sum_Cite_Bar, '-g')\n",
    "plt.xlim([1995, 2021])\n",
    "ax1.set_ylabel('Cumulative # of studies')\n",
    "ax2.set_ylabel('Cumulative # of citations')\n",
    "\n",
    "fig.tight_layout()"
   ]
  },
  {
   "cell_type": "code",
   "execution_count": null,
   "id": "9c27d45b-eb71-41e5-b1a1-4990a516244d",
   "metadata": {},
   "outputs": [],
   "source": [
    "bins_lin_MIs"
   ]
  },
  {
   "cell_type": "code",
   "execution_count": null,
   "id": "cab635de-579c-4e20-8a41-8449863aadf5",
   "metadata": {},
   "outputs": [],
   "source": [
    "fig, (ax1) = plt.subplots(figsize=(10,5))\n",
    "\n",
    "# ax1.hist(Data_Barometry['Publication Year']+0.375, bins=bins_lin_Bar+0.5+0.375, rwidth=0.25,  fc='green', label='Min-Melt')\n",
    "# ax1.hist(Data_FIs['Publication Year']+0.125, bins=bins_lin_FIs+0.5+0.125, rwidth=0.25,  fc='k', label='FIs')\n",
    "# ax1.hist(Data_MIs['Publication Year']+0.625, bins=bins_lin_MIs+0.5+0.625, rwidth=0.25,  fc='peru', label='MIs', alpha=0.8)\n",
    "ax1.plot(Dates, Cum_Sum_Study_MI, '-', color='peru', label='Melt inclusions')\n",
    "ax1.plot(Dates, Cum_Sum_Study_Bar, '-g', label='Mineral barometry')\n",
    "ax1.plot(Dates, Cum_Sum_Study_FI, '-k', label='Fluid inclusions')\n",
    "\n",
    "ax1.set_xlim([1990, 2021])\n",
    "#ax1.legend()\n",
    "fig.savefig('Smaller_WOS.png', dpi=200)"
   ]
  },
  {
   "cell_type": "code",
   "execution_count": null,
   "id": "97cf1782-4525-4571-b1d7-18bbb9f638e4",
   "metadata": {},
   "outputs": [],
   "source": [
    "fig, (ax1, ax2) = plt.subplots(1, 2, figsize=(10,5))\n",
    "\n",
    "# ax1.hist(Data_Barometry['Publication Year']+0.375, bins=bins_lin_Bar+0.5+0.375, rwidth=0.25,  fc='green', label='Min-Melt')\n",
    "# ax1.hist(Data_FIs['Publication Year']+0.125, bins=bins_lin_FIs+0.5+0.125, rwidth=0.25,  fc='k', label='FIs')\n",
    "# ax1.hist(Data_MIs['Publication Year']+0.625, bins=bins_lin_MIs+0.5+0.625, rwidth=0.25,  fc='peru', label='MIs', alpha=0.8)\n",
    "ax1.plot(Dates, Cum_Sum_Study_MI, '-', color='peru', label='Melt inclusions')\n",
    "ax1.plot(Dates, Cum_Sum_Study_FI, '-k', label='Fluid inclusions')\n",
    "ax1.plot(Dates, Cum_Sum_Study_Bar, '-g', label='Mineral Barometry')\n",
    "\n",
    "ax2.plot(Dates, Cum_Sum_Cite_MI, '-', color='peru')\n",
    "ax2.plot(Dates, Cum_Sum_Cite_FI, '-k')\n",
    "ax2.plot(Dates, Cum_Sum_Cite_Bar, '-g')\n",
    "\n",
    "\n",
    "ax1.set_ylabel('Cumulative # of studies')\n",
    "ax2.set_ylabel('Cumulative # of citations')\n",
    "\n",
    "ax1.set_xlabel('Year')\n",
    "ax2.set_xlabel('Year')\n",
    "\n",
    "ax1.set_ylim([0, 120])\n",
    "ax2.set_ylim([0, 4500])\n",
    "ax1.set_xlim([1990, 2021])\n",
    "ax2.set_xlim([1990, 2021])\n",
    "ax1.legend()\n",
    "plt.tight_layout()\n",
    "fig.savefig('Web_of_Science.png', dpi=300)"
   ]
  },
  {
   "cell_type": "markdown",
   "id": "5a1cb0c5-02e3-4bd8-bc2e-38a3b224be7a",
   "metadata": {},
   "source": [
    "## Errors"
   ]
  },
  {
   "cell_type": "code",
   "execution_count": null,
   "id": "209d2691-a69c-4c87-abcf-5ce34ee47b91",
   "metadata": {},
   "outputs": [],
   "source": [
    "import CoolProp.CoolProp as CP\n",
    "\n",
    "CalcP=CP.PropsSI('P', 'D', 0.42*1000, 'T', 800+273.15, 'CO2')*10**(-8)\n",
    "CalcP\n",
    "\n",
    "Temp=np.random.normal(1200+273.15, 30, 1000)\n",
    "\n",
    "Density_05=np.random.normal(0.5*1000, 0.02*1000, 1000)\n",
    "Density_02=np.random.normal(0.2*1000, 0.02*1000, 1000)\n",
    "Density_01=np.random.normal(0.1*1000, 0.02*1000, 1000)\n",
    "Density_08=np.random.normal(0.8*1000, 0.02*1000, 1000)\n",
    "\n",
    "CalcP_MC_05=CP.PropsSI('P', 'D', Density_05, 'T', Temp, 'CO2')*10**(-8)\n",
    "CalcP_MC_02=CP.PropsSI('P', 'D', Density_02, 'T', Temp, 'CO2')*10**(-8)\n",
    "CalcP_MC_01=CP.PropsSI('P', 'D', Density_01, 'T', Temp, 'CO2')*10**(-8)\n",
    "\n",
    "CalcP_MC_08=CP.PropsSI('P', 'D', Density_08, 'T', Temp, 'CO2')*10**(-8)\n",
    "CalcP_MC_05_sd=np.std(CalcP_MC_05)\n",
    "CalcP_MC_02_sd=np.std(CalcP_MC_02)\n",
    "CalcP_MC_01_sd=np.std(CalcP_MC_01)\n",
    "CalcP_MC_08_sd=np.std(CalcP_MC_08)"
   ]
  },
  {
   "cell_type": "code",
   "execution_count": null,
   "id": "b0aa8ca8-f65e-43e4-b70e-bb6d0006f6a0",
   "metadata": {},
   "outputs": [],
   "source": [
    "f8_depth=np.array([\n",
    "0.360000000000000,\n",
    "0.490000000000000,\n",
    "0.660000000000000,\n",
    "0.770000000000000,\n",
    "0.360000000000000,\n",
    "0.660000000000000,\n",
    "0.520000000000000,\n",
    "0.280000000000000,\n",
    "0.310000000000000,\n",
    "0.490000000000000,\n",
    "0.970000000000000,\n",
    "0.790000000000000,\n",
    "0.790000000000000,\n",
    "0.570000000000000,\n",
    "0.840000000000000,\n",
    "1.47000000000000,\n",
    "0.730000000000000,\n",
    "0.700000000000000,\n",
    "0.920000000000000,\n",
    "0.710000000000000,\n",
    "0.880000000000000,\n",
    "0.820000000000000,\n",
    "0.920000000000000,\n",
    "0.320000000000000,\n",
    "0.690000000000000,\n",
    "2.07000000000000,\n",
    "0.240000000000000])\n",
    "F8_err=np.array([0.190000000000000,\n",
    "0.430000000000000,\n",
    "0.280000000000000,\n",
    "0.370000000000000,\n",
    "0.290000000000000,\n",
    "0.390000000000000,\n",
    "0.490000000000000,\n",
    "0.230000000000000,\n",
    "0.230000000000000,\n",
    "0.220000000000000,\n",
    "0.470000000000000,\n",
    "0.720000000000000,\n",
    "0.560000000000000,\n",
    "0.170000000000000,\n",
    "0.490000000000000,\n",
    "0.840000000000000,\n",
    "0.410000000000000,\n",
    "0.320000000000000,\n",
    "0.560000000000000,\n",
    "0.300000000000000,\n",
    "0.330000000000000,\n",
    "0.370000000000000,\n",
    "0.390000000000000,\n",
    "0.0800000000000000,\n",
    "0.490000000000000,\n",
    "0.720000000000000,\n",
    "0.120000000000000])\n"
   ]
  },
  {
   "cell_type": "code",
   "execution_count": null,
   "id": "f519c704-b5d2-443f-88a7-5ac414ff1107",
   "metadata": {},
   "outputs": [],
   "source": [
    "fig, (ax1) = plt.subplots(1, 1, figsize=(4.5,4.7), sharey=True)\n",
    "ax1.errorbar(0,\n",
    "             1.9706891851560804,\n",
    "             yerr=1.0936611113123715,\n",
    "             fmt='.', ecolor='k', elinewidth=0.8, mfc='k', ms=1, mec='k',  capsize=2)\n",
    "ax1.plot(0,\n",
    "             1.9706891851560804,\n",
    "             'ok', mfc='k', ms=8)\n",
    "\n",
    "ax1.errorbar(1,\n",
    "             2.017065765896709,\n",
    "             yerr=1.5744390920895586,\n",
    "             fmt='.', ecolor='k', elinewidth=0.8, mfc='k', ms=1, mec='k', capsize=2, zorder=0)\n",
    "ax1.plot(1,\n",
    "             2.017065765896709,\n",
    "             'ok', mfc='cyan', ms=8)\n",
    "\n",
    "for i in range(0, len(f8_depth)):\n",
    "    rand=np.random.normal(0, 0.1, 1)\n",
    "    ax1.plot(f8_depth[i]*0+2+rand, f8_depth[i], 'ok', mfc='lightgreen', ms=5)\n",
    "    ax1.errorbar(f8_depth[i]*0+2+rand,\n",
    "             f8_depth[i],\n",
    "             yerr=F8_err[i],\n",
    "             fmt='.', ecolor='k', elinewidth=0.8, mfc='red', ms=1, mec='k', capsize=2, zorder=0)\n",
    " \n",
    "\n",
    "# plt.plot(2,\n",
    "#              np.mean(CalcP_MC_08),\n",
    "#              'ok')\n",
    "# plt.errorbar(2,\n",
    "#              np.mean(CalcP_MC_08),\n",
    "#              yerr=np.std(CalcP_MC_08),\n",
    "#              fmt='.', ecolor='k', elinewidth=0.8, mfc='k', ms=1, mec='k')\n",
    "ax1.plot(3.2,\n",
    "             np.mean(CalcP_MC_05),\n",
    "             'o', mec='None', mfc='red', ms=6, zorder=0)\n",
    "ax1.errorbar(3.2,\n",
    "             np.mean(CalcP_MC_05),\n",
    "             yerr=np.std(CalcP_MC_05),\n",
    "             fmt='.', ecolor='k', elinewidth=0.8, mfc='k', ms=1, mec='k', capsize=2)\n",
    "\n",
    "ax1.plot(3.1,\n",
    "             np.mean(CalcP_MC_02),\n",
    "              'o', mec='None', mfc='red', ms=6, zorder=0)\n",
    "ax1.errorbar(3.1,\n",
    "             np.mean(CalcP_MC_02),\n",
    "             yerr=np.std(CalcP_MC_02),\n",
    "             fmt='.', ecolor='k', elinewidth=0.8, mfc='yellow', ms=0.5, mec='None', capsize=2)\n",
    "ax1.plot(3.4,\n",
    "             np.mean(CalcP_MC_01),\n",
    "             'o', mec='None', mfc='red', ms=6, zorder=0)\n",
    "ax1.errorbar(3.4,\n",
    "             np.mean(CalcP_MC_01),\n",
    "             yerr=np.std(CalcP_MC_01),\n",
    "             fmt='.', ecolor='k', elinewidth=0.8, mfc='red', ms=1, mec='None', capsize=2)\n",
    "   \n",
    "ax1.set_xticks([])\n",
    "fig.savefig('Different_Errors.png', dpi=300)"
   ]
  },
  {
   "cell_type": "markdown",
   "id": "2359d12e-6585-47d7-a059-2f343a4a0418",
   "metadata": {},
   "source": [
    "## Pressure vs depth"
   ]
  },
  {
   "cell_type": "markdown",
   "id": "c278d2b3-761e-41a0-8956-0c8b216bd4f5",
   "metadata": {},
   "source": [
    "## Loading in other equation and state from Sterner and Pitzer (1994)\n"
   ]
  },
  {
   "cell_type": "code",
   "execution_count": null,
   "id": "2359d883-0055-491c-a6fd-e9d6a79979d2",
   "metadata": {},
   "outputs": [],
   "source": [
    "SP=pd.read_excel('Sterner_Pitzer (1994) EOS.xlsx')"
   ]
  },
  {
   "cell_type": "code",
   "execution_count": null,
   "id": "fbf8338f-06eb-4de5-9ad7-fde5cf3a820a",
   "metadata": {},
   "outputs": [],
   "source": [
    "P=np.linspace(100, 2000*10**6, 100)\n",
    "Psmall=np.linspace(0, 100, 100)\n",
    "P_combo=np.concatenate((Psmall, P))"
   ]
  },
  {
   "cell_type": "code",
   "execution_count": null,
   "id": "6e6edfee-356e-4fa3-bbad-460b3a903331",
   "metadata": {},
   "outputs": [],
   "source": [
    "CalcD_P=CP.PropsSI('D', 'P',5, 'T', 1200, 'CO2')\n",
    "CalcD_P"
   ]
  },
  {
   "cell_type": "code",
   "execution_count": null,
   "id": "14e21d93-bc25-4451-8505-52ddbf427190",
   "metadata": {},
   "outputs": [],
   "source": [
    "rho=2700\n",
    "P_axis_min=0\n",
    "P_axis_max=20\n",
    "D_axis_min=100000*P_axis_min/(9.8*rho)\n",
    "D_axis_max=100000*P_axis_max/(9.8*rho)"
   ]
  },
  {
   "cell_type": "code",
   "execution_count": 31,
   "id": "1c263378-08ed-4da5-81c0-813683c9a331",
   "metadata": {},
   "outputs": [
    {
     "name": "stderr",
     "output_type": "stream",
     "text": [
      "C:\\Users\\penny\\AppData\\Local\\Temp\\ipykernel_23364\\2829470469.py:15: UserWarning: color is redundantly defined by the 'color' keyword argument and the fmt string \"ok\" (-> color='k'). The keyword argument will take precedence.\n",
      "  ax4.plot(SP['T_1100']/100, SP['rho'], 'ok', color='darkred')\n"
     ]
    },
    {
     "data": {
      "text/plain": [
       "Text(0.5, 0, 'Pressure (kbar)')"
      ]
     },
     "execution_count": 31,
     "metadata": {},
     "output_type": "execute_result"
    },
    {
     "data": {
      "image/png": "[encoded data removed]",
      "text/plain": [
       "<Figure size 600x500 with 2 Axes>"
      ]
     },
     "metadata": {},
     "output_type": "display_data"
    }
   ],
   "source": [
    "fig, (ax4) = plt.subplots(1, 1, figsize=(6,5))\n",
    "\n",
    "\n",
    "CalcD_P_1300=CP.PropsSI('D', 'P', P_combo, 'T', 1300+273.15, 'CO2')\n",
    "CalcD_P_1200=CP.PropsSI('D', 'P', P_combo, 'T', 1200+273.15, 'CO2')\n",
    "CalcD_P_1100=CP.PropsSI('D', 'P', P_combo, 'T', 1100+273.15, 'CO2')\n",
    "CalcD_P_1000=CP.PropsSI('D', 'P', P_combo, 'T', 1000+273.15, 'CO2')\n",
    "\n",
    "ax5 = ax4.twiny()\n",
    "ax4.plot(P_combo*10**(-8), CalcD_P_1000/1000, '-', color='black')\n",
    "ax4.plot(P_combo*10**(-8), CalcD_P_1100/1000, '-', color='darkred')\n",
    "ax4.plot(P_combo*10**(-8), CalcD_P_1200/1000, '-', color='red')\n",
    "ax4.plot(P_combo*10**(-8), CalcD_P_1300/1000, '-', color='orange')\n",
    "\n",
    "ax4.plot(SP['T_1100']/100, SP['rho'], 'ok', color='darkred') \n",
    "\n",
    "# Charlotts calculations At 20C: V=0.194 L=0.773\n",
    "ax4.plot( [0, 20], [0.194, 0.194], ':k')\n",
    "ax4.plot([0, 20],[0.773, 0.773],  ':k')\n",
    "ax4.set_xlim([P_axis_min, P_axis_max])\n",
    "ax4.set_ylim([0, 1.5])\n",
    "\n",
    "ax5.set_xlim([D_axis_min, D_axis_max])\n",
    "ax4.set_ylabel('Density (g/cm$^{3}$)')\n",
    "ax5.set_xlabel('Depth (km)')\n",
    "ax4.set_xlabel('Pressure (kbar)')"
   ]
  },
  {
   "cell_type": "markdown",
   "id": "e2569f8d-ee5a-4fdb-8907-24b2ffa6455f",
   "metadata": {},
   "source": [
    "## Polyfit span and wanger vs. empiricla"
   ]
  },
  {
   "cell_type": "code",
   "execution_count": 46,
   "id": "42154aa2-45cc-4d2b-9bfe-fd56d5125475",
   "metadata": {},
   "outputs": [
    {
     "name": "stderr",
     "output_type": "stream",
     "text": [
      "C:\\Users\\penny\\AppData\\Local\\Temp\\ipykernel_23364\\1748472042.py:10: UserWarning: color is redundantly defined by the 'color' keyword argument and the fmt string \"ok\" (-> color='k'). The keyword argument will take precedence.\n",
      "  plt.plot(SW['T_1100'], SW['rho'], 'ok', color='darkred')\n"
     ]
    },
    {
     "data": {
      "text/plain": [
       "[<matplotlib.lines.Line2D at 0x1b24ca76df0>]"
      ]
     },
     "execution_count": 46,
     "metadata": {},
     "output_type": "execute_result"
    },
    {
     "data": {
      "image/png": "[encoded data removed]",
      "text/plain": [
       "<Figure size 640x480 with 1 Axes>"
      ]
     },
     "metadata": {},
     "output_type": "display_data"
    }
   ],
   "source": [
    "SW=pd.DataFrame(data={'T_1100': P_combo*10**(-8),\n",
    "                      'rho': CalcD_P_1100/1000})\n",
    "Pf_SW96 = np.poly1d(np.polyfit(SW['T_1100'].T.iloc[0:], \n",
    "                          SW['rho'].T.iloc[0:],\n",
    "                          4))\n",
    "\n",
    "\n",
    "Px_SW96  = np.linspace(0, 8, 101)\n",
    "Py_SW96  = Pf_SW96 (Px_SW96 )\n",
    "plt.plot(SW['T_1100'], SW['rho'], 'ok', color='darkred') \n",
    "plt.plot(Px_SW96, Py_SW96, '-r')"
   ]
  },
  {
   "cell_type": "code",
   "execution_count": 38,
   "id": "00eedf87-b55b-4102-b3e6-d51e1c0672f1",
   "metadata": {},
   "outputs": [
    {
     "name": "stderr",
     "output_type": "stream",
     "text": [
      "C:\\Users\\penny\\AppData\\Local\\Temp\\ipykernel_23364\\2376647611.py:8: UserWarning: color is redundantly defined by the 'color' keyword argument and the fmt string \"ok\" (-> color='k'). The keyword argument will take precedence.\n",
      "  plt.plot(SP['T_1100']/100, SP['rho'], 'ok', color='darkred')\n"
     ]
    },
    {
     "data": {
      "text/plain": [
       "[<matplotlib.lines.Line2D at 0x1b24d8d03d0>]"
      ]
     },
     "execution_count": 38,
     "metadata": {},
     "output_type": "execute_result"
    },
    {
     "data": {
      "image/png": "[encoded data removed]",
      "text/plain": [
       "<Figure size 640x480 with 1 Axes>"
      ]
     },
     "metadata": {},
     "output_type": "display_data"
    }
   ],
   "source": [
    "Pf_SP94 = np.poly1d(np.polyfit(0.01*SP['T_1100'].T.iloc[0:], \n",
    "                          SP['rho'].T.iloc[0:],\n",
    "                          4))\n",
    "\n",
    "\n",
    "Px_SP94 = np.linspace(0, 8, 101)\n",
    "Py_SP94 = Pf_SP94(Px_SP94)\n",
    "plt.plot(SP['T_1100']/100, SP['rho'], 'ok', color='darkred') \n",
    "plt.plot(Px_SP94, Py_SP94, '-r')"
   ]
  },
  {
   "cell_type": "markdown",
   "id": "4a2a8d48-47c5-427f-821c-5e3520208d5e",
   "metadata": {},
   "source": [
    "## Direct comparison - "
   ]
  },
  {
   "cell_type": "code",
   "execution_count": 28,
   "id": "e357f036-0982-4885-a721-b6086a6799a2",
   "metadata": {},
   "outputs": [
    {
     "data": {
      "text/plain": [
       "495.6375371392693"
      ]
     },
     "execution_count": 28,
     "metadata": {},
     "output_type": "execute_result"
    }
   ],
   "source": [
    "testSW=CP.PropsSI('P', 'D', 0.8*1000, 'T', 1150+273.15, 'CO2')\n",
    "testSW*10**(-6)"
   ]
  },
  {
   "cell_type": "code",
   "execution_count": 50,
   "id": "f4e3470c-f078-4a19-b844-9bd0e1a7d3d1",
   "metadata": {},
   "outputs": [
    {
     "data": {
      "text/plain": [
       "1.0308432229893612"
      ]
     },
     "execution_count": 50,
     "metadata": {},
     "output_type": "execute_result"
    }
   ],
   "source": [
    "100-100*testSW*10**(-6)/500.8"
   ]
  },
  {
   "attachments": {
    "20000084-9711-4438-b1b8-5e68f42b23db.png": {
     "image/png": "[encoded data removed]"
    }
   },
   "cell_type": "markdown",
   "id": "d9150fe0-e24b-4ed7-8a9c-3da3fab01a4e",
   "metadata": {},
   "source": [
    "![image.png](attachment:20000084-9711-4438-b1b8-5e68f42b23db.png)"
   ]
  },
  {
   "cell_type": "code",
   "execution_count": null,
   "id": "39f2812f-ba40-46a5-be32-3548dc99725a",
   "metadata": {},
   "outputs": [],
   "source": [
    "fig, (ax4) = plt.subplots(1, 1, figsize=(6,5))\n",
    "ax5 = ax4.twiny()\n",
    "CalcD_P_1300=CP.PropsSI('D', 'P', P_combo, 'T', 1300+273.15, 'CO2')\n",
    "CalcD_P_1200=CP.PropsSI('D', 'P', P_combo, 'T', 1200+273.15, 'CO2')\n",
    "CalcD_P_1100=CP.PropsSI('D', 'P', P_combo, 'T', 1100+273.15, 'CO2')\n",
    "CalcD_P_1000=CP.PropsSI('D', 'P', P_combo, 'T', 1000+273.15, 'CO2')\n",
    "\n",
    "ax4.plot(P_combo*10**(-8), CalcD_P_1000/1000, '-', color='black')\n",
    "ax4.plot(P_combo*10**(-8), CalcD_P_1100/1000, '-', color='darkred')\n",
    "ax4.plot(P_combo*10**(-8), CalcD_P_1200/1000, '-', color='red')\n",
    "ax4.plot(P_combo*10**(-8), CalcD_P_1300/1000, '-', color='orange')\n",
    "\n",
    "# Charlotts calculations At 20C: V=0.194 L=0.773\n",
    "ax4.plot( [0, 20], [0.194, 0.194], ':k')\n",
    "ax4.plot([0, 20],[0.773, 0.773],  ':k')\n",
    "ax4.set_xlim([P_axis_min, P_axis_max/10])\n",
    "ax4.set_ylim([0, 1.5/5])\n",
    "\n",
    "ax5.set_xlim([D_axis_min, D_axis_max/10])\n",
    "ax4.set_ylabel('Density (g/cm$^{3}$)')\n",
    "ax5.set_xlabel('Depth (km)')\n",
    "ax4.set_xlabel('Pressure (kbar)')"
   ]
  },
  {
   "cell_type": "markdown",
   "id": "5053dd9e-cd4f-4c59-a314-0461271bb96d",
   "metadata": {},
   "source": [
    "## Combined figure"
   ]
  },
  {
   "cell_type": "code",
   "execution_count": null,
   "id": "2640446a-72ef-4a99-8134-39e21191698c",
   "metadata": {},
   "outputs": [],
   "source": [
    "fig, ((ax4, ax3), (ax1, ax2)) = plt.subplots(2, 2, figsize=(10,9))\n",
    "\n",
    "# ax1.hist(Data_Barometry['Publication Year']+0.375, bins=bins_lin_Bar+0.5+0.375, rwidth=0.25,  fc='green', label='Min-Melt')\n",
    "# ax1.hist(Data_FIs['Publication Year']+0.125, bins=bins_lin_FIs+0.5+0.125, rwidth=0.25,  fc='k', label='FIs')\n",
    "# ax1.hist(Data_MIs['Publication Year']+0.625, bins=bins_lin_MIs+0.5+0.625, rwidth=0.25,  fc='peru', label='MIs', alpha=0.8)\n",
    "ax1.plot(Dates, Cum_Sum_Study_MI, '-', color='peru', label='Melt inclusions')\n",
    "ax1.plot(Dates, Cum_Sum_Study_FI, '-k', label='Fluid inclusions')\n",
    "ax1.plot(Dates, Cum_Sum_Study_Bar, '-g', label='Mineral Barometry')\n",
    "\n",
    "ax2.plot(Dates, Cum_Sum_Cite_MI, '-', color='peru')\n",
    "ax2.plot(Dates, Cum_Sum_Cite_FI, '-k')\n",
    "ax2.plot(Dates, Cum_Sum_Cite_Bar, '-g')\n",
    "\n",
    "\n",
    "\n",
    "#############\n",
    "ax3.errorbar(0,\n",
    "             1.9706891851560804,\n",
    "             yerr=1.0936611113123715,\n",
    "             fmt='.', ecolor='k', elinewidth=0.8, mfc='k', ms=1, mec='k',  capsize=2)\n",
    "ax3.plot(0,\n",
    "             1.9706891851560804,\n",
    "             'ok', mfc='k', ms=8)\n",
    "\n",
    "ax3.errorbar(1,\n",
    "             2.017065765896709,\n",
    "             yerr=1.5744390920895586,\n",
    "             fmt='.', ecolor='k', elinewidth=0.8, mfc='k', ms=1, mec='k', capsize=2, zorder=0)\n",
    "ax3.plot(1,\n",
    "             2.017065765896709,\n",
    "             'ok', mfc='cyan', ms=8)\n",
    "\n",
    "for i in range(0, len(f8_depth)):\n",
    "    rand=np.random.normal(0, 0.1, 1)\n",
    "    ax3.plot(f8_depth[i]*0+2+rand, f8_depth[i], 'ok', mfc='lightgreen', ms=5)\n",
    "    ax3.errorbar(f8_depth[i]*0+2+rand,\n",
    "             f8_depth[i],\n",
    "             yerr=F8_err[i],\n",
    "             fmt='.', ecolor='k', elinewidth=0.8, mfc='red', ms=1, mec='k', capsize=2, zorder=0)\n",
    " \n",
    "\n",
    "# plt.plot(2,\n",
    "#              np.mean(CalcP_MC_08),\n",
    "#              'ok')\n",
    "# plt.errorbar(2,\n",
    "#              np.mean(CalcP_MC_08),\n",
    "#              yerr=np.std(CalcP_MC_08),\n",
    "#              fmt='.', ecolor='k', elinewidth=0.8, mfc='k', ms=1, mec='k')\n",
    "ax3.plot(3.2,\n",
    "             np.mean(CalcP_MC_05),\n",
    "             'o', mec='None', mfc='red', ms=6, zorder=0)\n",
    "ax3.errorbar(3.2,\n",
    "             np.mean(CalcP_MC_05),\n",
    "             yerr=np.std(CalcP_MC_05),\n",
    "             fmt='.', ecolor='k', elinewidth=0.8, mfc='k', ms=1, mec='k', capsize=2)\n",
    "\n",
    "ax3.plot(3.1,\n",
    "             np.mean(CalcP_MC_02),\n",
    "              'o', mec='None', mfc='red', ms=6, zorder=0)\n",
    "ax3.errorbar(3.1,\n",
    "             np.mean(CalcP_MC_02),\n",
    "             yerr=np.std(CalcP_MC_02),\n",
    "             fmt='.', ecolor='k', elinewidth=0.8, mfc='yellow', ms=0.5, mec='None', capsize=2)\n",
    "ax3.plot(3.4,\n",
    "             np.mean(CalcP_MC_01),\n",
    "             'o', mec='None', mfc='red', ms=6, zorder=0)\n",
    "ax3.errorbar(3.4,\n",
    "             np.mean(CalcP_MC_01),\n",
    "             yerr=np.std(CalcP_MC_01),\n",
    "             fmt='.', ecolor='k', elinewidth=0.8, mfc='red', ms=1, mec='None', capsize=2)\n",
    "   \n",
    "ax3.set_xticks([])\n",
    "ax3.set_ylabel('Pressure (kbar)')\n",
    "\n",
    "\n",
    "ax1.set_ylabel('Cumulative # of studies')\n",
    "ax2.set_ylabel('Cumulative # of citations')\n",
    "\n",
    "ax1.set_xlabel('Year')\n",
    "ax2.set_xlabel('Year')\n",
    "\n",
    "ax1.set_ylim([0, 120])\n",
    "ax2.set_ylim([0, 4500])\n",
    "ax1.set_xlim([1990, 2021])\n",
    "ax2.set_xlim([1990, 2021])\n",
    "ax1.legend()\n",
    "\n",
    "\n",
    "\n",
    "ax5 = ax4.twiny()\n",
    "ax4.plot(P_combo*10**(-8), CalcD_P_1000/1000, '-', color='black')\n",
    "ax4.plot(P_combo*10**(-8), CalcD_P_1100/1000, '-', color='darkred')\n",
    "ax4.plot(P_combo*10**(-8), CalcD_P_1200/1000, '-', color='red')\n",
    "ax4.plot(P_combo*10**(-8), CalcD_P_1300/1000, '-', color='orange')\n",
    "\n",
    "# Charlotts calculations At 20C: V=0.194 L=0.773\n",
    "ax4.plot( [0, 20], [0.194, 0.194], ':k')\n",
    "ax4.plot([0, 20],[0.773, 0.773],  ':k')\n",
    "ax4.set_xlim([P_axis_min, P_axis_max])\n",
    "ax4.set_ylim([0, 1.5])\n",
    "\n",
    "ax5.set_xlim([D_axis_min, D_axis_max])\n",
    "ax4.set_ylabel('Density (g/cm$^{3}$)')\n",
    "ax5.set_xlabel('Depth (km)')\n",
    "ax4.set_xlabel('Pressure (kbar)')\n",
    "\n",
    "\n",
    "plt.tight_layout()\n",
    "fig.savefig('Combo_for_review.png', dpi=300)"
   ]
  },
  {
   "cell_type": "code",
   "execution_count": null,
   "id": "3464a0ea-1826-41dd-9cba-b5bac6765f86",
   "metadata": {},
   "outputs": [],
   "source": []
  }
 ],
 "metadata": {
  "kernelspec": {
   "display_name": "Python 3 (ipykernel)",
   "language": "python",
   "name": "python3"
  },
  "language_info": {
   "codemirror_mode": {
    "name": "ipython",
    "version": 3
   },
   "file_extension": ".py",
   "mimetype": "text/x-python",
   "name": "python",
   "nbconvert_exporter": "python",
   "pygments_lexer": "ipython3",
   "version": "3.9.13"
  }
 },
 "nbformat": 4,
 "nbformat_minor": 5
}
