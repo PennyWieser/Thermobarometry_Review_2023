{
 "cells": [
  {
   "cell_type": "code",
   "execution_count": 1,
   "id": "7c4bb1bc-6817-4b30-a896-1803267b11a2",
   "metadata": {},
   "outputs": [],
   "source": [
    "import numpy as np\n",
    "import pandas as pd\n",
    "import matplotlib.pyplot as plt\n",
    "import sys\n",
    "# put diad fit somewhere\n",
    "sys.path.append(r'C:\\Users\\penny\\OneDrive - Oregon State University\\Postdoc\\MeltInclusion_SampleStuff\\Peak_Fitting_Tests\\Example_notebooks_Spectra')\n",
    "import DiadFit as pf\n",
    "from lmfit.models import GaussianModel, VoigtModel, LinearModel, ConstantModel, QuadraticModel, LorentzianModel"
   ]
  },
  {
   "cell_type": "code",
   "execution_count": 2,
   "id": "199593c3-551e-4697-a98c-3dbe5ab89310",
   "metadata": {},
   "outputs": [],
   "source": [
    "plt.style.use(\"seaborn-colorblind\")\n",
    "plt.rcParams[\"font.family\"] = 'arial'\n",
    "plt.rcParams[\"font.size\"] =12\n",
    "plt.rcParams[\"mathtext.default\"] = \"regular\"\n",
    "plt.rcParams[\"mathtext.fontset\"] = \"dejavusans\"\n",
    "plt.rcParams['patch.linewidth'] = 1\n",
    "plt.rcParams['axes.linewidth'] = 1\n",
    "plt.rcParams[\"xtick.direction\"] = \"in\"\n",
    "plt.rcParams[\"ytick.direction\"] = \"in\"\n",
    "plt.rcParams[\"ytick.direction\"] = \"in\"\n",
    "plt.rcParams[\"xtick.major.size\"] = 6 # Sets length of ticks\n",
    "plt.rcParams[\"ytick.major.size\"] = 4 # Sets length of ticks\n",
    "plt.rcParams[\"ytick.labelsize\"] = 12 # Sets size of numbers on tick marks\n",
    "plt.rcParams[\"xtick.labelsize\"] = 12 # Sets size of numbers on tick marks\n",
    "plt.rcParams[\"axes.titlesize\"] = 14 # Overall title\n",
    "plt.rcParams[\"axes.labelsize\"] = 14 # Axes labels"
   ]
  },
  {
   "cell_type": "code",
   "execution_count": 3,
   "id": "1b07f4d0-8893-4d32-90d3-90a385d8b0f4",
   "metadata": {},
   "outputs": [
    {
     "name": "stdout",
     "output_type": "stream",
     "text": [
      "11_TL_20_MI2.txt\n"
     ]
    }
   ],
   "source": [
    "#path=r\"C:\\Users\\penny\\OneDrive - Oregon State University\\Postdoc\\MeltInclusion_SampleStuff\\Raman\\DAY2\\Spectra\"\n",
    "import os\n",
    "path=os.getcwd()\n",
    "filename=\"11_TL_20_MI2.txt\"\n",
    "\n",
    "data_all=pf.get_data(path=None, filename=filename, filetype='Witec_ASCII')\n",
    "spec=(data_all[:, 0]>1341.5)&(data_all[:, 0]<1342)\n",
    "data=data_all[~spec]"
   ]
  },
  {
   "cell_type": "code",
   "execution_count": 4,
   "id": "f9b2d6c0-806b-404a-b4fa-19b45e256f7e",
   "metadata": {},
   "outputs": [
    {
     "name": "stdout",
     "output_type": "stream",
     "text": [
      "41_TL12_MI0.txt\n"
     ]
    }
   ],
   "source": [
    "filename2='41_TL12_MI0.txt'\n",
    "data2_all=pf.get_data(path=None, filename=filename2, filetype='Witec_ASCII')\n",
    "spec=(data2_all[:, 0]>1341.5)&(data2_all[:, 0]<1342)\n",
    "data2=data2_all[~spec]"
   ]
  },
  {
   "cell_type": "code",
   "execution_count": 5,
   "id": "7baa5592-994c-4d7f-ad9b-f960328fce6d",
   "metadata": {},
   "outputs": [
    {
     "data": {
      "image/png": "[encoded data removed]",
      "text/plain": [
       "<Figure size 400x320 with 1 Axes>"
      ]
     },
     "metadata": {},
     "output_type": "display_data"
    }
   ],
   "source": [
    "fig, (ax1) = plt.subplots(1, 1, figsize=(5*0.8,4*0.8), sharey=True)\n",
    "#ax1.plot(data[:, 0], data[:, 1], '-r', lw=1)\n",
    "ax1.plot(data2[:, 0], data2[:, 1], '-r', lw=1)\n",
    "\n",
    "ax1.set_xlim([1250, 1420])\n",
    "#ax1.set_xlabel('Wavenumber (cm$^{-1}$')\n",
    "#ax1.set_ylabel('Intensity')\n",
    "ax1.tick_params(direction=\"in\")\n",
    "fig.savefig('Example_Spectra.png', dpi=200, bbox_inches='tight')"
   ]
  },
  {
   "cell_type": "code",
   "execution_count": 8,
   "id": "d1adfbbd-824b-43c7-b76e-b435dd000001",
   "metadata": {},
   "outputs": [
    {
     "data": {
      "text/plain": [
       "548.8888888888888"
      ]
     },
     "execution_count": 8,
     "metadata": {},
     "output_type": "execute_result"
    }
   ],
   "source": [
    "(10**6) * (0.026*0.057)/(2.700)"
   ]
  },
  {
   "cell_type": "code",
   "execution_count": 9,
   "id": "c5db174a-9ee3-4546-8547-f48a9fe49fc8",
   "metadata": {},
   "outputs": [
    {
     "data": {
      "text/plain": [
       "1714.0740740740737"
      ]
     },
     "execution_count": 9,
     "metadata": {},
     "output_type": "execute_result"
    }
   ],
   "source": [
    "(10**6) * (0.026*0.178)/(2.700)"
   ]
  },
  {
   "cell_type": "code",
   "execution_count": 10,
   "id": "ce5f5cb5-7db0-4f7f-9c16-4f87dce8377e",
   "metadata": {},
   "outputs": [
    {
     "data": {
      "text/plain": [
       "3.1228070175438596"
      ]
     },
     "execution_count": 10,
     "metadata": {},
     "output_type": "execute_result"
    }
   ],
   "source": [
    "1714.0740740740737/548.8888888888888"
   ]
  },
  {
   "cell_type": "code",
   "execution_count": null,
   "id": "ab81ff5a-ca04-43a7-9ee7-068342af63ae",
   "metadata": {},
   "outputs": [],
   "source": []
  },
  {
   "cell_type": "code",
   "execution_count": null,
   "id": "d683b9c5-ed69-4dcc-a73b-f97896dc7eef",
   "metadata": {},
   "outputs": [],
   "source": []
  }
 ],
 "metadata": {
  "kernelspec": {
   "display_name": "Python 3 (ipykernel)",
   "language": "python",
   "name": "python3"
  },
  "language_info": {
   "codemirror_mode": {
    "name": "ipython",
    "version": 3
   },
   "file_extension": ".py",
   "mimetype": "text/x-python",
   "name": "python",
   "nbconvert_exporter": "python",
   "pygments_lexer": "ipython3",
   "version": "3.9.13"
  }
 },
 "nbformat": 4,
 "nbformat_minor": 5
}
