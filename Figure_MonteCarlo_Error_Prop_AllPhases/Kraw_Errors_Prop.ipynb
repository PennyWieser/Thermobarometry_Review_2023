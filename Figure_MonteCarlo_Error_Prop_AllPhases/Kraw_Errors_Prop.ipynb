{
 "cells": [
  {
   "cell_type": "code",
   "execution_count": 1,
   "id": "160a0984-a58d-4905-81f9-d1a3cf491464",
   "metadata": {},
   "outputs": [],
   "source": [
    "import numpy as np\n",
    "import pandas as pd\n",
    "import Thermobar as pt\n",
    "import matplotlib.pyplot as plt"
   ]
  },
  {
   "cell_type": "markdown",
   "id": "9ab2ae37-0b8c-4ba6-ab48-fe1d2781a153",
   "metadata": {},
   "source": [
    "## Example monte Carlo simulation for amphibole\n",
    "- Loading in experimental imprecision from Kraw et al. 2012"
   ]
  },
  {
   "cell_type": "code",
   "execution_count": 2,
   "id": "8d57557e-7125-4b01-b143-cb6dd92be8b9",
   "metadata": {},
   "outputs": [],
   "source": [
    "KrawErr=pd.read_excel(r'G:\\My Drive\\Postdoc\\PyMME\\MyBarometers\\LEPR_Tests\\Tidy_Tukey_Exp_Av\\Clinopyroxene_Assesment\\paper1_NoisePropagation\\Submit_July18th_2022\\Supporting_Info\\Supporting_Data_3.xlsx',\n",
    "                   sheet_name='Kraw13_042907_Analyses')\n",
    "KrawAmp_in=pt.import_excel(r'G:\\My Drive\\Postdoc\\PyMME\\MyBarometers\\LEPR_Tests\\Tidy_Tukey_Exp_Av\\Clinopyroxene_Assesment\\paper1_NoisePropagation\\Submit_July18th_2022\\Supporting_Info\\Supporting_Data_2.xlsx',\n",
    "                   sheet_name='41c_103a', suffix='_Amp')\n",
    "KrawAmp=KrawAmp_in['Amps']\n",
    "\n"
   ]
  },
  {
   "cell_type": "code",
   "execution_count": null,
   "id": "eb64a467-59f6-43c9-b42d-2a4576aea436",
   "metadata": {},
   "outputs": [],
   "source": []
  },
  {
   "cell_type": "code",
   "execution_count": 3,
   "id": "22eeb74e-0618-437f-b374-849873d84eb1",
   "metadata": {},
   "outputs": [
    {
     "data": {
      "text/html": [
       "<div>\n",
       "<style scoped>\n",
       "    .dataframe tbody tr th:only-of-type {\n",
       "        vertical-align: middle;\n",
       "    }\n",
       "\n",
       "    .dataframe tbody tr th {\n",
       "        vertical-align: top;\n",
       "    }\n",
       "\n",
       "    .dataframe thead th {\n",
       "        text-align: right;\n",
       "    }\n",
       "</style>\n",
       "<table border=\"1\" class=\"dataframe\">\n",
       "  <thead>\n",
       "    <tr style=\"text-align: right;\">\n",
       "      <th></th>\n",
       "      <th>SiO2_Amp</th>\n",
       "      <th>TiO2_Amp</th>\n",
       "      <th>Al2O3_Amp</th>\n",
       "      <th>FeOt_Amp</th>\n",
       "      <th>MnO_Amp</th>\n",
       "      <th>MgO_Amp</th>\n",
       "      <th>CaO_Amp</th>\n",
       "      <th>Na2O_Amp</th>\n",
       "      <th>K2O_Amp</th>\n",
       "      <th>Cr2O3_Amp</th>\n",
       "      <th>F_Amp</th>\n",
       "      <th>Cl_Amp</th>\n",
       "      <th>Sample_ID_Amp</th>\n",
       "    </tr>\n",
       "  </thead>\n",
       "  <tbody>\n",
       "    <tr>\n",
       "      <th>0</th>\n",
       "      <td>47.885556</td>\n",
       "      <td>0.973144</td>\n",
       "      <td>10.148889</td>\n",
       "      <td>7.548889</td>\n",
       "      <td>0.118822</td>\n",
       "      <td>17.766667</td>\n",
       "      <td>11.15</td>\n",
       "      <td>2.152678</td>\n",
       "      <td>0.217578</td>\n",
       "      <td>0.207622</td>\n",
       "      <td>0.0</td>\n",
       "      <td>0.0</td>\n",
       "      <td>4.0</td>\n",
       "    </tr>\n",
       "  </tbody>\n",
       "</table>\n",
       "</div>"
      ],
      "text/plain": [
       "    SiO2_Amp  TiO2_Amp  Al2O3_Amp  FeOt_Amp   MnO_Amp    MgO_Amp  CaO_Amp  \\\n",
       "0  47.885556  0.973144  10.148889  7.548889  0.118822  17.766667    11.15   \n",
       "\n",
       "   Na2O_Amp   K2O_Amp  Cr2O3_Amp  F_Amp  Cl_Amp  Sample_ID_Amp  \n",
       "0  2.152678  0.217578   0.207622    0.0     0.0            4.0  "
      ]
     },
     "execution_count": 3,
     "metadata": {},
     "output_type": "execute_result"
    }
   ],
   "source": [
    "KrawErr_Amp=KrawErr.loc[KrawErr['Name']==\"41c-103a amph3\"]\n",
    "Kraw_06_41c_amp=KrawAmp\n",
    "Kraw_Amp_Av=Kraw_06_41c_amp.mean(axis=0).to_frame().T\n",
    "Kraw_Amp_Av"
   ]
  },
  {
   "cell_type": "code",
   "execution_count": 4,
   "id": "2e598a9c-b5a4-4cc6-aeb1-007c5488a894",
   "metadata": {},
   "outputs": [],
   "source": [
    "\n",
    "\n",
    "B1038_Amp_Err1=pd.DataFrame(data={'SiO2_Amp_Err': KrawErr_Amp.loc[KrawErr_Amp['Element']==\"SiO2\", 'Error_Per'].values,\n",
    "                            'TiO2_Amp_Err':KrawErr_Amp.loc[KrawErr_Amp['Element']==\"TiO2\", 'Error_Per'].values,\n",
    "                             'Al2O3_Amp_Err':KrawErr_Amp.loc[KrawErr_Amp['Element']==\"Al2O3\", 'Error_Per'].values,\n",
    "                             'FeOt_Amp_Err':KrawErr_Amp.loc[KrawErr_Amp['Element']==\"FeO\", 'Error_Per'].values,\n",
    "                            'MnO_Amp_Err':KrawErr_Amp.loc[KrawErr_Amp['Element']==\"MnO\", 'Error_Per'].values,\n",
    "                            'MgO_Amp_Err':KrawErr_Amp.loc[KrawErr_Amp['Element']==\"MgO\", 'Error_Per'].values,\n",
    "                            'CaO_Amp_Err':KrawErr_Amp.loc[KrawErr_Amp['Element']==\"CaO\", 'Error_Per'].values,\n",
    "                            'Na2O_Amp_Err':KrawErr_Amp.loc[KrawErr_Amp['Element']==\"Na2O\", 'Error_Per'].values,\n",
    "                            'Cr2O3_Amp_Err':KrawErr_Amp.loc[KrawErr_Amp['Element']==\"Cr2O3\", 'Error_Per'].values,\n",
    "                               'K2O_Amp_Err': 0}, index=[0])\n",
    "B1038_AmpAv_noise1=pt.add_noise_sample_1phase(phase_comp=Kraw_Amp_Av, phase_err=B1038_Amp_Err1,\n",
    "                                             phase_err_type=\"Perc\", duplicates=500, err_dist=\"normal\",\n",
    "                                            positive=False)\n",
    "B1038_AmpAv_noise1['Sample_ID_Amp']=\"MC\"\n",
    "\n",
    "Amp_B1038_Medard=pt.calculate_amp_only_press(amp_comps=B1038_AmpAv_noise1, \n",
    "                                               equationP='P_Medard2022_MutchSites')\n",
    "\n",
    "Amp_Ridolfi=pt.calculate_amp_only_press_temp(amp_comps=B1038_AmpAv_noise1, \n",
    "                                               equationP='P_Ridolfi2021',\n",
    "                                            equationT='T_Ridolfi2012')\n"
   ]
  },
  {
   "cell_type": "code",
   "execution_count": 5,
   "id": "3873a91b-e2f7-4e21-a68a-5a5076757cce",
   "metadata": {},
   "outputs": [
    {
     "data": {
      "text/plain": [
       "0.14726296293218596"
      ]
     },
     "execution_count": 5,
     "metadata": {},
     "output_type": "execute_result"
    }
   ],
   "source": [
    "np.std(Amp_B1038_Medard)"
   ]
  },
  {
   "cell_type": "code",
   "execution_count": 6,
   "id": "a7a556a4-ddca-4e32-a83e-0d9146cf914f",
   "metadata": {},
   "outputs": [
    {
     "data": {
      "text/plain": [
       "0.06289441675435664"
      ]
     },
     "execution_count": 6,
     "metadata": {},
     "output_type": "execute_result"
    }
   ],
   "source": [
    "np.std(Amp_Ridolfi['P_kbar_calc'])"
   ]
  },
  {
   "cell_type": "code",
   "execution_count": 7,
   "id": "7596fdd8-139a-4dd8-8742-9e17e023ccdb",
   "metadata": {},
   "outputs": [
    {
     "data": {
      "text/plain": [
       "(array([ 3.,  6., 20., 31., 37., 36., 33., 33., 13.,  3.]),\n",
       " array([2.47707903, 2.50987414, 2.54266924, 2.57546435, 2.60825945,\n",
       "        2.64105456, 2.67384966, 2.70664477, 2.73943987, 2.77223498,\n",
       "        2.80503008]),\n",
       " <BarContainer object of 10 artists>)"
      ]
     },
     "execution_count": 7,
     "metadata": {},
     "output_type": "execute_result"
    },
    {
     "data": {
      "image/png": "[encoded data removed]",
      "text/plain": [
       "<Figure size 432x288 with 1 Axes>"
      ]
     },
     "metadata": {
      "needs_background": "light"
     },
     "output_type": "display_data"
    }
   ],
   "source": [
    "plt.hist(Amp_B1038_Medard, label='Medard')\n",
    "plt.hist(Amp_Ridolfi['P_kbar_calc'], label='Ridolfi')"
   ]
  },
  {
   "cell_type": "code",
   "execution_count": 8,
   "id": "a17ecb9b-3cc7-49f6-88d5-a0e350462a9f",
   "metadata": {},
   "outputs": [
    {
     "data": {
      "text/plain": [
       "[<matplotlib.lines.Line2D at 0x18252d466d0>]"
      ]
     },
     "execution_count": 8,
     "metadata": {},
     "output_type": "execute_result"
    },
    {
     "data": {
      "image/png": "[encoded data removed]",
      "text/plain": [
       "<Figure size 432x288 with 1 Axes>"
      ]
     },
     "metadata": {
      "needs_background": "light"
     },
     "output_type": "display_data"
    }
   ],
   "source": [
    "plt.plot(Amp_Ridolfi['P_kbar_calc'], Amp_Ridolfi['T_K_calc'], 'ok')"
   ]
  },
  {
   "cell_type": "markdown",
   "id": "afd9f1ff-dea7-4cd5-9ab2-ffd188187be5",
   "metadata": {},
   "source": [
    "## Cpx only"
   ]
  },
  {
   "cell_type": "code",
   "execution_count": 9,
   "id": "7f553d78-93b4-4d49-b61f-e68d6b1f3db7",
   "metadata": {},
   "outputs": [],
   "source": [
    "KrawErr_Cpx=KrawErr.loc[KrawErr['Name']==\"B1038 cpx14\"]"
   ]
  },
  {
   "cell_type": "code",
   "execution_count": 10,
   "id": "f60ceab4-b2e0-42fa-ad33-bbb1ec532efb",
   "metadata": {},
   "outputs": [],
   "source": [
    "KrawCpx_in=pt.import_excel(r'G:\\My Drive\\Postdoc\\PyMME\\MyBarometers\\LEPR_Tests\\Tidy_Tukey_Exp_Av\\Clinopyroxene_Assesment\\paper1_NoisePropagation\\Submit_July18th_2022\\Supporting_Info\\Supporting_Data_2.xlsx',\n",
    "                   sheet_name='B1038', suffix='_Cpx')\n",
    "KrawCpx=KrawCpx_in['Cpxs']"
   ]
  },
  {
   "cell_type": "code",
   "execution_count": 11,
   "id": "5cd5490d-25c6-4b33-b51d-593f628ae293",
   "metadata": {},
   "outputs": [
    {
     "name": "stderr",
     "output_type": "stream",
     "text": [
      "C:\\Users\\penny\\AppData\\Local\\Temp\\ipykernel_39396\\1619967589.py:3: FutureWarning: Dropping of nuisance columns in DataFrame reductions (with 'numeric_only=None') is deprecated; in a future version this will raise TypeError.  Select only valid columns before calling the reduction.\n",
      "  Kraw_Cpx_Av=Kraw_06_41c_Cpx.mean(axis=0).to_frame().T\n"
     ]
    },
    {
     "data": {
      "text/html": [
       "<div>\n",
       "<style scoped>\n",
       "    .dataframe tbody tr th:only-of-type {\n",
       "        vertical-align: middle;\n",
       "    }\n",
       "\n",
       "    .dataframe tbody tr th {\n",
       "        vertical-align: top;\n",
       "    }\n",
       "\n",
       "    .dataframe thead th {\n",
       "        text-align: right;\n",
       "    }\n",
       "</style>\n",
       "<table border=\"1\" class=\"dataframe\">\n",
       "  <thead>\n",
       "    <tr style=\"text-align: right;\">\n",
       "      <th></th>\n",
       "      <th>SiO2_Cpx</th>\n",
       "      <th>TiO2_Cpx</th>\n",
       "      <th>Al2O3_Cpx</th>\n",
       "      <th>FeOt_Cpx</th>\n",
       "      <th>MnO_Cpx</th>\n",
       "      <th>MgO_Cpx</th>\n",
       "      <th>CaO_Cpx</th>\n",
       "      <th>Na2O_Cpx</th>\n",
       "      <th>K2O_Cpx</th>\n",
       "      <th>Cr2O3_Cpx</th>\n",
       "    </tr>\n",
       "  </thead>\n",
       "  <tbody>\n",
       "    <tr>\n",
       "      <th>0</th>\n",
       "      <td>52.96</td>\n",
       "      <td>0.2378</td>\n",
       "      <td>1.916</td>\n",
       "      <td>4.83</td>\n",
       "      <td>0.1458</td>\n",
       "      <td>18.37</td>\n",
       "      <td>19.87</td>\n",
       "      <td>0.322</td>\n",
       "      <td>0.0</td>\n",
       "      <td>0.5386</td>\n",
       "    </tr>\n",
       "  </tbody>\n",
       "</table>\n",
       "</div>"
      ],
      "text/plain": [
       "   SiO2_Cpx  TiO2_Cpx  Al2O3_Cpx  FeOt_Cpx  MnO_Cpx  MgO_Cpx  CaO_Cpx  \\\n",
       "0     52.96    0.2378      1.916      4.83   0.1458    18.37    19.87   \n",
       "\n",
       "   Na2O_Cpx  K2O_Cpx  Cr2O3_Cpx  \n",
       "0     0.322      0.0     0.5386  "
      ]
     },
     "execution_count": 11,
     "metadata": {},
     "output_type": "execute_result"
    }
   ],
   "source": [
    "Kraw_Cpx=KrawCpx.loc[KrawCpx['Sample_ID_Cpx']==\"B1038cpx3\"]\n",
    "Kraw_06_41c_Cpx=Kraw_Cpx\n",
    "Kraw_Cpx_Av=Kraw_06_41c_Cpx.mean(axis=0).to_frame().T\n",
    "Kraw_Cpx_Av"
   ]
  },
  {
   "cell_type": "code",
   "execution_count": 12,
   "id": "36793ee7-79e6-4534-98ac-f98356f50538",
   "metadata": {},
   "outputs": [
    {
     "name": "stderr",
     "output_type": "stream",
     "text": [
      "C:\\Users\\penny\\anaconda3\\lib\\site-packages\\pandas\\core\\indexing.py:2115: FutureWarning: In a future version, the Index constructor will not infer numeric dtypes when passed object-dtype sequences (matching Series behavior)\n",
      "  new_ix = Index(new_ix)\n",
      "C:\\Users\\penny\\anaconda3\\lib\\site-packages\\pandas\\core\\indexing.py:2115: FutureWarning: In a future version, the Index constructor will not infer numeric dtypes when passed object-dtype sequences (matching Series behavior)\n",
      "  new_ix = Index(new_ix)\n",
      "g:\\my drive\\postdoc\\pymme\\mybarometers\\thermobar_outer\\src\\Thermobar\\clinopyroxene_thermobarometry.py:2979: UserWarning: This Cpx-only barometer is sensitive to H2O content of the liquid.  By default, this function uses H2O=0 wt%, else you can enter a value of H2O_Liq in the function\n",
      "  w.warn('This Cpx-only barometer is sensitive to H2O content of the liquid. '\n"
     ]
    },
    {
     "name": "stdout",
     "output_type": "stream",
     "text": [
      "Youve selected a P-independent function\n",
      "Youve selected a T-independent function\n"
     ]
    },
    {
     "name": "stderr",
     "output_type": "stream",
     "text": [
      "C:\\Users\\penny\\anaconda3\\lib\\site-packages\\pandas\\core\\indexing.py:2115: FutureWarning: In a future version, the Index constructor will not infer numeric dtypes when passed object-dtype sequences (matching Series behavior)\n",
      "  new_ix = Index(new_ix)\n",
      "g:\\my drive\\postdoc\\pymme\\mybarometers\\thermobar_outer\\src\\Thermobar\\clinopyroxene_thermobarometry.py:3197: UserWarning: This Cpx-only thermometer is sensitive to H2O content of the liquid.  By default, this function uses H2O=0 wt%, else you can enter a value of H2O_Liq in the function\n",
      "  w.warn('This Cpx-only thermometer is sensitive to H2O content of the liquid. '\n",
      "C:\\Users\\penny\\anaconda3\\lib\\site-packages\\pandas\\core\\indexing.py:2115: FutureWarning: In a future version, the Index constructor will not infer numeric dtypes when passed object-dtype sequences (matching Series behavior)\n",
      "  new_ix = Index(new_ix)\n"
     ]
    }
   ],
   "source": [
    "\n",
    "\n",
    "B1038_Cpx_Err1=pd.DataFrame(data={'SiO2_Cpx_Err': KrawErr_Cpx.loc[KrawErr_Cpx['Element']==\"SiO2\", 'Error_Per'].values,\n",
    "                            'TiO2_Cpx_Err':KrawErr_Cpx.loc[KrawErr_Cpx['Element']==\"TiO2\", 'Error_Per'].values,\n",
    "                             'Al2O3_Cpx_Err':KrawErr_Cpx.loc[KrawErr_Cpx['Element']==\"Al2O3\", 'Error_Per'].values,\n",
    "                             'FeOt_Cpx_Err':KrawErr_Cpx.loc[KrawErr_Cpx['Element']==\"FeO\", 'Error_Per'].values,\n",
    "                            'MnO_Cpx_Err':KrawErr_Cpx.loc[KrawErr_Cpx['Element']==\"MnO\", 'Error_Per'].values,\n",
    "                            'MgO_Cpx_Err':KrawErr_Cpx.loc[KrawErr_Cpx['Element']==\"MgO\", 'Error_Per'].values,\n",
    "                            'CaO_Cpx_Err':KrawErr_Cpx.loc[KrawErr_Cpx['Element']==\"CaO\", 'Error_Per'].values,\n",
    "                            'Na2O_Cpx_Err':KrawErr_Cpx.loc[KrawErr_Cpx['Element']==\"Na2O\", 'Error_Per'].values,\n",
    "                            'Cr2O3_Cpx_Err':KrawErr_Cpx.loc[KrawErr_Cpx['Element']==\"Cr2O3\", 'Error_Per'].values,\n",
    "                               'K2O_Cpx_Err': 0}, index=[0])\n",
    "B1038_CpxAv_noise1=pt.add_noise_sample_1phase(phase_comp=Kraw_Cpx_Av, phase_err=B1038_Cpx_Err1,\n",
    "                                             phase_err_type=\"Perc\", duplicates=500, err_dist=\"normal\",\n",
    "                                            positive=False)\n",
    "B1038_CpxAv_noise1['Sample_ID_Cpx']=\"MC\"\n",
    "\n",
    "Cpx_B1038_Putirka=pt.calculate_cpx_only_press_temp(cpx_comps=B1038_CpxAv_noise1, \n",
    "                                               equationP='P_Put2008_eq32b',\n",
    "                                             equationT='T_Put2008_eq32d')\n",
    "\n",
    "Cpx_B1038_Wang=pt.calculate_cpx_only_press_temp(cpx_comps=B1038_CpxAv_noise1, \n",
    "                                               equationP='P_Wang2021_eq1',\n",
    "                                            equationT='T_Wang2021_eq2')\n"
   ]
  },
  {
   "cell_type": "code",
   "execution_count": 13,
   "id": "37cc1d52-defc-4b8f-bbeb-24393989a4d6",
   "metadata": {},
   "outputs": [
    {
     "data": {
      "text/plain": [
       "(array([  8.,  12.,  45.,  71., 106., 107.,  96.,  35.,  14.,   6.]),\n",
       " array([1.29554901, 1.69961768, 2.10368635, 2.50775501, 2.91182368,\n",
       "        3.31589234, 3.71996101, 4.12402968, 4.52809834, 4.93216701,\n",
       "        5.33623568]),\n",
       " <BarContainer object of 10 artists>)"
      ]
     },
     "execution_count": 13,
     "metadata": {},
     "output_type": "execute_result"
    },
    {
     "data": {
      "image/png": "[encoded data removed]",
      "text/plain": [
       "<Figure size 432x288 with 1 Axes>"
      ]
     },
     "metadata": {
      "needs_background": "light"
     },
     "output_type": "display_data"
    }
   ],
   "source": [
    "plt.hist(Cpx_B1038_Putirka['P_kbar_calc'], label='Medard')\n",
    "plt.hist(Cpx_B1038_Wang['P_kbar_calc'], label='Ridolfi')"
   ]
  },
  {
   "cell_type": "code",
   "execution_count": 14,
   "id": "cf351e00-ff28-4444-9f3c-72ee3000ffe9",
   "metadata": {},
   "outputs": [
    {
     "data": {
      "text/plain": [
       "[<matplotlib.lines.Line2D at 0x18254685e50>]"
      ]
     },
     "execution_count": 14,
     "metadata": {},
     "output_type": "execute_result"
    },
    {
     "data": {
      "image/png": "[encoded data removed]",
      "text/plain": [
       "<Figure size 432x288 with 1 Axes>"
      ]
     },
     "metadata": {
      "needs_background": "light"
     },
     "output_type": "display_data"
    }
   ],
   "source": [
    "plt.plot(Cpx_B1038_Putirka['P_kbar_calc'], Cpx_B1038_Putirka['T_K_calc'], 'ok')\n",
    "plt.plot(Cpx_B1038_Wang['P_kbar_calc'], Cpx_B1038_Wang['T_K_calc'], '.r')"
   ]
  },
  {
   "cell_type": "markdown",
   "id": "ac391625-0643-4ca4-b96a-ff4aaee2f667",
   "metadata": {},
   "source": [
    "## Making noise for Opx"
   ]
  },
  {
   "cell_type": "code",
   "execution_count": 15,
   "id": "59110df4-70f4-401f-a4d2-f00506ede6c3",
   "metadata": {},
   "outputs": [],
   "source": [
    "KrawErr2=pd.read_excel(r'G:\\My Drive\\Postdoc\\PyMME\\MyBarometers\\LEPR_Tests\\Tidy_Tukey_Exp_Av\\Clinopyroxene_Assesment\\paper1_NoisePropagation\\Submit_July18th_2022\\Supporting_Info\\Supporting_Data_3.xlsx',\n",
    "                   sheet_name='Kraw13_083006_Analyses')\n",
    "\n",
    "KrawErr_Opx=KrawErr2.loc[KrawErr2['Name']==\"B1038-opx2\"]\n"
   ]
  },
  {
   "cell_type": "code",
   "execution_count": 16,
   "id": "70d514d7-671f-4521-83c5-e06745630302",
   "metadata": {},
   "outputs": [],
   "source": [
    "KrawOpx_in=pt.import_excel(r'G:\\My Drive\\Postdoc\\PyMME\\MyBarometers\\LEPR_Tests\\Tidy_Tukey_Exp_Av\\Clinopyroxene_Assesment\\paper1_NoisePropagation\\Submit_July18th_2022\\Supporting_Info\\Supporting_Data_2.xlsx',\n",
    "                   sheet_name='B1038', suffix='_Opx')\n",
    "KrawOpx=KrawOpx_in['Opxs']"
   ]
  },
  {
   "cell_type": "code",
   "execution_count": 17,
   "id": "5f749b8a-cc69-49e8-8b56-98671e3d80a1",
   "metadata": {},
   "outputs": [
    {
     "name": "stderr",
     "output_type": "stream",
     "text": [
      "C:\\Users\\penny\\AppData\\Local\\Temp\\ipykernel_39396\\2369468557.py:3: FutureWarning: Dropping of nuisance columns in DataFrame reductions (with 'numeric_only=None') is deprecated; in a future version this will raise TypeError.  Select only valid columns before calling the reduction.\n",
      "  Kraw_Opx_Av=Kraw_06_41c_Opx.mean(axis=0).to_frame().T\n"
     ]
    },
    {
     "data": {
      "text/html": [
       "<div>\n",
       "<style scoped>\n",
       "    .dataframe tbody tr th:only-of-type {\n",
       "        vertical-align: middle;\n",
       "    }\n",
       "\n",
       "    .dataframe tbody tr th {\n",
       "        vertical-align: top;\n",
       "    }\n",
       "\n",
       "    .dataframe thead th {\n",
       "        text-align: right;\n",
       "    }\n",
       "</style>\n",
       "<table border=\"1\" class=\"dataframe\">\n",
       "  <thead>\n",
       "    <tr style=\"text-align: right;\">\n",
       "      <th></th>\n",
       "      <th>SiO2_Opx</th>\n",
       "      <th>TiO2_Opx</th>\n",
       "      <th>Al2O3_Opx</th>\n",
       "      <th>FeOt_Opx</th>\n",
       "      <th>MnO_Opx</th>\n",
       "      <th>MgO_Opx</th>\n",
       "      <th>CaO_Opx</th>\n",
       "      <th>Na2O_Opx</th>\n",
       "      <th>K2O_Opx</th>\n",
       "      <th>Cr2O3_Opx</th>\n",
       "    </tr>\n",
       "  </thead>\n",
       "  <tbody>\n",
       "    <tr>\n",
       "      <th>0</th>\n",
       "      <td>55.92</td>\n",
       "      <td>0.1547</td>\n",
       "      <td>1.2912</td>\n",
       "      <td>10.73</td>\n",
       "      <td>0.2063</td>\n",
       "      <td>28.9</td>\n",
       "      <td>1.9042</td>\n",
       "      <td>0.0</td>\n",
       "      <td>0.0</td>\n",
       "      <td>0.2224</td>\n",
       "    </tr>\n",
       "  </tbody>\n",
       "</table>\n",
       "</div>"
      ],
      "text/plain": [
       "   SiO2_Opx  TiO2_Opx  Al2O3_Opx  FeOt_Opx  MnO_Opx  MgO_Opx  CaO_Opx  \\\n",
       "0     55.92    0.1547     1.2912     10.73   0.2063     28.9   1.9042   \n",
       "\n",
       "   Na2O_Opx  K2O_Opx  Cr2O3_Opx  \n",
       "0       0.0      0.0     0.2224  "
      ]
     },
     "execution_count": 17,
     "metadata": {},
     "output_type": "execute_result"
    }
   ],
   "source": [
    "Kraw_Opx=KrawOpx.loc[KrawOpx['Sample_ID_Opx']==\"B1038-opx1\"]\n",
    "Kraw_06_41c_Opx=Kraw_Opx\n",
    "Kraw_Opx_Av=Kraw_06_41c_Opx.mean(axis=0).to_frame().T\n",
    "Kraw_Opx_Av"
   ]
  },
  {
   "cell_type": "code",
   "execution_count": 18,
   "id": "91e9784e-f3f8-4c52-809c-af5fe4834069",
   "metadata": {},
   "outputs": [
    {
     "data": {
      "text/plain": [
       "0    0.034428\n",
       "Name: FmAl2SiO6, dtype: float64"
      ]
     },
     "execution_count": 18,
     "metadata": {},
     "output_type": "execute_result"
    }
   ],
   "source": [
    "opx_c=pt.calculate_orthopyroxene_components(opx_comps=Kraw_Opx_Av)\n",
    "\n",
    "opx_c['FmAl2SiO6']"
   ]
  },
  {
   "cell_type": "code",
   "execution_count": 19,
   "id": "beaa0065-8f04-452c-a170-c40c1b25595c",
   "metadata": {},
   "outputs": [],
   "source": [
    "B1038_Opx_Err1=pd.DataFrame(data={'SiO2_Opx_Err': KrawErr_Opx.loc[KrawErr_Opx['Element']==\"SiO2\", 'Error_Per'].values,\n",
    "                            'TiO2_Opx_Err':KrawErr_Opx.loc[KrawErr_Opx['Element']==\"TiO2\", 'Error_Per'].values,\n",
    "                             'Al2O3_Opx_Err':KrawErr_Opx.loc[KrawErr_Opx['Element']==\"Al2O3\", 'Error_Per'].values,\n",
    "                             'FeOt_Opx_Err':KrawErr_Opx.loc[KrawErr_Opx['Element']==\"FeO\", 'Error_Per'].values,\n",
    "                            'MnO_Opx_Err':KrawErr_Opx.loc[KrawErr_Opx['Element']==\"MnO\", 'Error_Per'].values,\n",
    "                            'MgO_Opx_Err':KrawErr_Opx.loc[KrawErr_Opx['Element']==\"MgO\", 'Error_Per'].values,\n",
    "                            'CaO_Opx_Err':KrawErr_Opx.loc[KrawErr_Opx['Element']==\"CaO\", 'Error_Per'].values,\n",
    "                            'Na2O_Opx_Err':KrawErr_Opx.loc[KrawErr_Opx['Element']==\"Na2O\", 'Error_Per'].values,\n",
    "                            'Cr2O3_Opx_Err':KrawErr_Opx.loc[KrawErr_Opx['Element']==\"Cr2O3\", 'Error_Per'].values,\n",
    "                               'K2O_Opx_Err': 0}, index=[0])\n",
    "B1038_OpxAv_noise1=pt.add_noise_sample_1phase(phase_comp=Kraw_Opx_Av, phase_err=B1038_Opx_Err1,\n",
    "                                             phase_err_type=\"Perc\", duplicates=500, err_dist=\"normal\",\n",
    "                                            positive=False)\n",
    "B1038_OpxAv_noise1['Sample_ID_Opx']=\"MC\""
   ]
  },
  {
   "cell_type": "markdown",
   "id": "0fa3a3fc-2c28-4290-8bbd-2817a1e40fe7",
   "metadata": {},
   "source": [
    "## Opx-Cpx pressures"
   ]
  },
  {
   "cell_type": "code",
   "execution_count": 21,
   "id": "8c3f4497-ac7a-446d-9c71-1e6c01e88e73",
   "metadata": {},
   "outputs": [
    {
     "name": "stderr",
     "output_type": "stream",
     "text": [
      "C:\\Users\\penny\\anaconda3\\lib\\site-packages\\pandas\\core\\indexing.py:2115: FutureWarning: In a future version, the Index constructor will not infer numeric dtypes when passed object-dtype sequences (matching Series behavior)\n",
      "  new_ix = Index(new_ix)\n"
     ]
    },
    {
     "name": "stdout",
     "output_type": "stream",
     "text": [
      "Considering 250000 Opx-Cpx pairs, be patient if this is >>1 million!\n",
      "No Kd selected, all matches are shown\n",
      "Done!\n"
     ]
    }
   ],
   "source": [
    "CalcP_3639_all=pt.calculate_cpx_opx_press_temp_matching(opx_comps=B1038_OpxAv_noise1, cpx_comps=B1038_CpxAv_noise1,\n",
    "                                           equationT='T_Put2008_eq36',\n",
    "                                           equationP='P_Put2008_eq39',\n",
    "                                            return_all_pairs=True)\n",
    "CalcP_3639=CalcP_3639_all['All_PTs']"
   ]
  },
  {
   "cell_type": "code",
   "execution_count": 22,
   "id": "4a73b279-7ab8-4f3d-bbca-f37a4d3dcb16",
   "metadata": {},
   "outputs": [
    {
     "name": "stderr",
     "output_type": "stream",
     "text": [
      "C:\\Users\\penny\\anaconda3\\lib\\site-packages\\pandas\\core\\indexing.py:2115: FutureWarning: In a future version, the Index constructor will not infer numeric dtypes when passed object-dtype sequences (matching Series behavior)\n",
      "  new_ix = Index(new_ix)\n"
     ]
    },
    {
     "name": "stdout",
     "output_type": "stream",
     "text": [
      "Considering 250000 Opx-Cpx pairs, be patient if this is >>1 million!\n",
      "No Kd selected, all matches are shown\n",
      "Done!\n"
     ]
    },
    {
     "name": "stderr",
     "output_type": "stream",
     "text": [
      "C:\\Users\\penny\\anaconda3\\lib\\site-packages\\pandas\\core\\indexing.py:2115: FutureWarning: In a future version, the Index constructor will not infer numeric dtypes when passed object-dtype sequences (matching Series behavior)\n",
      "  new_ix = Index(new_ix)\n"
     ]
    },
    {
     "name": "stdout",
     "output_type": "stream",
     "text": [
      "Considering 250000 Opx-Cpx pairs, be patient if this is >>1 million!\n",
      "No Kd selected, all matches are shown\n",
      "Youve selected a T-independent function\n",
      "Done!\n"
     ]
    },
    {
     "name": "stderr",
     "output_type": "stream",
     "text": [
      "C:\\Users\\penny\\anaconda3\\lib\\site-packages\\pandas\\core\\indexing.py:2115: FutureWarning: In a future version, the Index constructor will not infer numeric dtypes when passed object-dtype sequences (matching Series behavior)\n",
      "  new_ix = Index(new_ix)\n"
     ]
    },
    {
     "name": "stdout",
     "output_type": "stream",
     "text": [
      "Considering 250000 Opx-Cpx pairs, be patient if this is >>1 million!\n",
      "No Kd selected, all matches are shown\n",
      "Done!\n"
     ]
    },
    {
     "name": "stderr",
     "output_type": "stream",
     "text": [
      "C:\\Users\\penny\\anaconda3\\lib\\site-packages\\pandas\\core\\indexing.py:2115: FutureWarning: In a future version, the Index constructor will not infer numeric dtypes when passed object-dtype sequences (matching Series behavior)\n",
      "  new_ix = Index(new_ix)\n"
     ]
    },
    {
     "name": "stdout",
     "output_type": "stream",
     "text": [
      "Considering 250000 Opx-Cpx pairs, be patient if this is >>1 million!\n",
      "No Kd selected, all matches are shown\n",
      "Youve selected a T-independent function\n",
      "Done!\n"
     ]
    }
   ],
   "source": [
    "CalcP_3639_all=pt.calculate_cpx_opx_press_temp_matching(opx_comps=B1038_OpxAv_noise1, cpx_comps=B1038_CpxAv_noise1,\n",
    "                                           equationT='T_Put2008_eq36',\n",
    "                                           equationP='P_Put2008_eq39', return_all_pairs=True)\n",
    "CalcP_3639=CalcP_3639_all['All_PTs']\n",
    "\n",
    "CalcP_3638_all=pt.calculate_cpx_opx_press_temp_matching(opx_comps=B1038_OpxAv_noise1, cpx_comps=B1038_CpxAv_noise1,\n",
    "                                           equationT='T_Put2008_eq36',\n",
    "                                           equationP='P_Put2008_eq38',\n",
    "                                                         return_all_pairs=True)\n",
    "\n",
    "CalcP_3638=CalcP_3638_all['All_PTs']\n",
    "\n",
    "CalcP_3739_all=pt.calculate_cpx_opx_press_temp_matching(opx_comps=B1038_OpxAv_noise1, cpx_comps=B1038_CpxAv_noise1,\n",
    "                                           equationT='T_Put2008_eq37',\n",
    "                                           equationP='P_Put2008_eq39'\n",
    "                                                        , return_all_pairs=True)\n",
    "CalcP_3739=CalcP_3739_all['All_PTs']\n",
    "\n",
    "CalcP_3738_all=pt.calculate_cpx_opx_press_temp_matching(opx_comps=B1038_OpxAv_noise1, cpx_comps=B1038_CpxAv_noise1,\n",
    "                                           equationT='T_Put2008_eq37',\n",
    "                                           equationP='P_Put2008_eq38'\n",
    "                                                        , return_all_pairs=True)\n",
    "CalcP_3738=CalcP_3738_all['All_PTs']\n"
   ]
  },
  {
   "cell_type": "code",
   "execution_count": 23,
   "id": "c6f4e334-d98e-4e9b-b28e-a8fcd784e84c",
   "metadata": {},
   "outputs": [
    {
     "data": {
      "text/plain": [
       "[<matplotlib.lines.Line2D at 0x18208128970>]"
      ]
     },
     "execution_count": 23,
     "metadata": {},
     "output_type": "execute_result"
    },
    {
     "data": {
      "image/png": "[encoded data removed]",
      "text/plain": [
       "<Figure size 432x288 with 1 Axes>"
      ]
     },
     "metadata": {
      "needs_background": "light"
     },
     "output_type": "display_data"
    }
   ],
   "source": [
    "plt.plot(CalcP_3639['T_K_calc'], CalcP_3639['P_kbar_calc'], 'ok')\n",
    "plt.plot(CalcP_3638['T_K_calc'], CalcP_3638['P_kbar_calc'], '.r')"
   ]
  },
  {
   "cell_type": "markdown",
   "id": "7173fefb-45c8-4fa2-912b-7c54d19a77c1",
   "metadata": {},
   "source": [
    "## Glass compositions"
   ]
  },
  {
   "cell_type": "code",
   "execution_count": 24,
   "id": "15a06f36-d66f-4ffa-acca-c67f3849164d",
   "metadata": {},
   "outputs": [],
   "source": [
    "KrawErr_Liq=KrawErr.loc[KrawErr['Name']==\"B1038 Glass\"]"
   ]
  },
  {
   "cell_type": "code",
   "execution_count": 25,
   "id": "1e162db9-5d99-4523-99c8-980c1f2e7082",
   "metadata": {},
   "outputs": [],
   "source": [
    "KrawLiq_in=pt.import_excel(r'G:\\My Drive\\Postdoc\\PyMME\\MyBarometers\\LEPR_Tests\\Tidy_Tukey_Exp_Av\\Clinopyroxene_Assesment\\paper1_NoisePropagation\\Submit_July18th_2022\\Supporting_Info\\Supporting_Data_2.xlsx',\n",
    "                   sheet_name='B1038_Glass', suffix='_Liq')\n",
    "KrawLiq=KrawLiq_in['Liqs']"
   ]
  },
  {
   "cell_type": "code",
   "execution_count": 26,
   "id": "467d6495-aab3-48a7-9c0b-445c045b04a2",
   "metadata": {},
   "outputs": [],
   "source": [
    "Kraw_Liq=KrawLiq\n",
    "Kraw_Liq_Av=Kraw_Liq.mean(axis=0).to_frame().T\n",
    "Kraw_Liq_Av['H2O_Liq']=12.9"
   ]
  },
  {
   "cell_type": "code",
   "execution_count": 27,
   "id": "ca6502d1-63ea-41f0-af79-0e51838f33ad",
   "metadata": {},
   "outputs": [],
   "source": [
    "B1038_Liq_Err1=pd.DataFrame(data={'SiO2_Liq_Err': KrawErr_Liq.loc[KrawErr_Liq['Element']==\"SiO2\", 'Error_Per'].values,\n",
    "                            'TiO2_Liq_Err':KrawErr_Liq.loc[KrawErr_Liq['Element']==\"TiO2\", 'Error_Per'].values,\n",
    "                             'Al2O3_Liq_Err':KrawErr_Liq.loc[KrawErr_Liq['Element']==\"Al2O3\", 'Error_Per'].values,\n",
    "                             'FeOt_Liq_Err':KrawErr_Liq.loc[KrawErr_Liq['Element']==\"FeO\", 'Error_Per'].values,\n",
    "                            'MnO_Liq_Err':KrawErr_Liq.loc[KrawErr_Liq['Element']==\"MnO\", 'Error_Per'].values,\n",
    "                            'MgO_Liq_Err':KrawErr_Liq.loc[KrawErr_Liq['Element']==\"MgO\", 'Error_Per'].values,\n",
    "                            'CaO_Liq_Err':KrawErr_Liq.loc[KrawErr_Liq['Element']==\"CaO\", 'Error_Per'].values,\n",
    "                            'Na2O_Liq_Err':KrawErr_Liq.loc[KrawErr_Liq['Element']==\"Na2O\", 'Error_Per'].values,\n",
    "                            'Cr2O3_Liq_Err':KrawErr_Liq.loc[KrawErr_Liq['Element']==\"Cr2O3\", 'Error_Per'].values,\n",
    "                              'H2O_Liq':5,\n",
    "                                  'K2O_Liq_Err': 0}, index=[0])\n",
    "B1038_LiqAv_noise1=pt.add_noise_sample_1phase(phase_comp=Kraw_Liq_Av, phase_err=B1038_Liq_Err1,\n",
    "                                             phase_err_type=\"Perc\", duplicates=500, err_dist=\"normal\",\n",
    "                                            positive=False)\n",
    "B1038_LiqAv_noise1['Sample_ID_Liq']=\"MC\"\n"
   ]
  },
  {
   "cell_type": "markdown",
   "id": "4e4b9ff4-4fc6-4a48-9e70-4c82e93cb4bf",
   "metadata": {},
   "source": [
    "## Liq only error"
   ]
  },
  {
   "cell_type": "code",
   "execution_count": 28,
   "id": "67a9fb9d-1d3a-4e42-a860-fc66b8d4e0d4",
   "metadata": {},
   "outputs": [
    {
     "name": "stdout",
     "output_type": "stream",
     "text": [
      "made it here2\n",
      "Youve selected a P-independent function\n"
     ]
    }
   ],
   "source": [
    "P=5\n",
    "if P is not None:\n",
    "    print('made it here2')\n",
    "    print('Youve selected a P-independent function')\n",
    "    P=None\n"
   ]
  },
  {
   "cell_type": "code",
   "execution_count": 29,
   "id": "dd52f553-047b-4920-b6c6-03efdacccf2f",
   "metadata": {},
   "outputs": [
    {
     "data": {
      "text/plain": [
       "0      1231.309525\n",
       "1      1235.253559\n",
       "2      1236.574659\n",
       "3      1229.869029\n",
       "4      1232.083369\n",
       "          ...     \n",
       "495    1240.814325\n",
       "496    1233.903401\n",
       "497    1231.238906\n",
       "498    1243.019617\n",
       "499    1236.907161\n",
       "Length: 500, dtype: float64"
      ]
     },
     "execution_count": 29,
     "metadata": {},
     "output_type": "execute_result"
    }
   ],
   "source": [
    "Liq_Eq14=pt.calculate_liq_only_temp(liq_comps=B1038_LiqAv_noise1, \n",
    "                           equationT='T_Put2008_eq14')\n",
    "\n",
    "Liq_Eq14"
   ]
  },
  {
   "cell_type": "code",
   "execution_count": 30,
   "id": "c0b99197-53b5-4915-8f4a-bf62122ff201",
   "metadata": {},
   "outputs": [],
   "source": [
    "Liq_Eq22=pt.calculate_liq_only_temp(liq_comps=B1038_LiqAv_noise1, \n",
    "                           equationT='T_Put2008_eq22_BeattDMg', P=8)\n"
   ]
  },
  {
   "cell_type": "code",
   "execution_count": 31,
   "id": "cdfe1d6f-3cc0-4ff6-9098-30bc5ada9410",
   "metadata": {},
   "outputs": [],
   "source": [
    "Liq_Helz=pt.calculate_liq_only_temp(liq_comps=B1038_LiqAv_noise1, \n",
    "                           equationT='T_Helz1987_MgO', P=8)\n"
   ]
  },
  {
   "cell_type": "code",
   "execution_count": 32,
   "id": "42abc939-f99b-4eb8-ab13-66c452467235",
   "metadata": {},
   "outputs": [
    {
     "data": {
      "text/plain": [
       "(array([  1.,   8.,  20., 101., 150., 137.,  63.,  13.,   6.,   1.]),\n",
       " array([1376.1055116 , 1376.89980629, 1377.69410099, 1378.48839568,\n",
       "        1379.28269037, 1380.07698507, 1380.87127976, 1381.66557445,\n",
       "        1382.45986915, 1383.25416384, 1384.04845853]),\n",
       " <BarContainer object of 10 artists>)"
      ]
     },
     "execution_count": 32,
     "metadata": {},
     "output_type": "execute_result"
    },
    {
     "data": {
      "image/png": "[encoded data removed]",
      "text/plain": [
       "<Figure size 432x288 with 1 Axes>"
      ]
     },
     "metadata": {
      "needs_background": "light"
     },
     "output_type": "display_data"
    }
   ],
   "source": [
    "plt.hist(Liq_Eq22)\n",
    "plt.hist(Liq_Eq14)\n",
    "plt.hist(Liq_Helz)"
   ]
  },
  {
   "cell_type": "markdown",
   "id": "b6797485-93db-4ddf-9f35-916556f0c165",
   "metadata": {},
   "source": [
    "## Opx-Liq error"
   ]
  },
  {
   "cell_type": "code",
   "execution_count": 33,
   "id": "3f1ac608-19ef-42d8-a416-acfccc3dba88",
   "metadata": {},
   "outputs": [
    {
     "name": "stdout",
     "output_type": "stream",
     "text": [
      "Considering 250000 Liq-Opx pairs, be patient if this is >>1 million!\n",
      "Finished calculating Ps and Ts, now just averaging the results. Almost there!\n",
      "Finished!\n"
     ]
    }
   ],
   "source": [
    "Opx_Liq_28a_29b_all=pt.calculate_opx_liq_press_temp_matching(opx_comps=B1038_OpxAv_noise1,\n",
    "                                        liq_comps=B1038_LiqAv_noise1,\n",
    "                                        equationT='T_Put2008_eq28a',\n",
    "                                        equationP='P_Put2008_eq29b', return_all_pairs=True)"
   ]
  },
  {
   "cell_type": "code",
   "execution_count": null,
   "id": "2911c6d7-6960-432a-8d41-03308eb35ade",
   "metadata": {},
   "outputs": [],
   "source": []
  },
  {
   "cell_type": "code",
   "execution_count": 34,
   "id": "4fc42ab4-e58c-43dd-8373-5a38fe423bd9",
   "metadata": {},
   "outputs": [],
   "source": [
    "# B1038_OpxAv_noise2=pt.add_noise_sample_1phase(phase_comp=Kraw_Opx_Av, phase_err=B1038_Opx_Err1,\n",
    "#                                              phase_err_type=\"Perc\", duplicates=250000, err_dist=\"normal\",\n",
    "#                                             positive=False)\n",
    "Opx_Liq_28a_29c=pt.calculate_opx_liq_press_temp(opx_comps=B1038_OpxAv_noise1,\n",
    "                                        liq_comps=B1038_LiqAv_noise1,\n",
    "                                        equationT='T_Put2008_eq28a',\n",
    "                                        equationP='P_Put2008_eq29c')"
   ]
  },
  {
   "cell_type": "code",
   "execution_count": 36,
   "id": "a8412e14-52cb-4021-b5b5-b1fe0356879d",
   "metadata": {},
   "outputs": [
    {
     "name": "stdout",
     "output_type": "stream",
     "text": [
      "Considering 250000 Liq-Opx pairs, be patient if this is >>1 million!\n",
      "Finished calculating Ps and Ts, now just averaging the results. Almost there!\n",
      "Finished!\n",
      "Considering 250000 Liq-Opx pairs, be patient if this is >>1 million!\n",
      "Finished calculating Ps and Ts, now just averaging the results. Almost there!\n",
      "Finished!\n",
      "Considering 250000 Liq-Opx pairs, be patient if this is >>1 million!\n",
      "Finished calculating Ps and Ts, now just averaging the results. Almost there!\n",
      "Finished!\n",
      "Considering 250000 Liq-Opx pairs, be patient if this is >>1 million!\n",
      "Finished calculating Ps and Ts, now just averaging the results. Almost there!\n",
      "Finished!\n"
     ]
    }
   ],
   "source": [
    "Opx_Liq_28a_29b_all=pt.calculate_opx_liq_press_temp_matching(opx_comps=B1038_OpxAv_noise1,\n",
    "                                        \n",
    "                                        liq_comps=B1038_LiqAv_noise1,\n",
    "                                        equationT='T_Put2008_eq28a',\n",
    "                                        equationP='P_Put2008_eq29b', return_all_pairs=True)\n",
    "\n",
    "Opx_Liq_28b_29b_all=pt.calculate_opx_liq_press_temp_matching(opx_comps=B1038_OpxAv_noise1,\n",
    "                                        \n",
    "                                        liq_comps=B1038_LiqAv_noise1,\n",
    "                                        equationT='T_Put2008_eq28b_opx_sat',\n",
    "                                        equationP='P_Put2008_eq29b', return_all_pairs=True)\n",
    "\n",
    "\n",
    "Opx_Liq_28a_29a_all=pt.calculate_opx_liq_press_temp_matching(opx_comps=B1038_OpxAv_noise1,\n",
    "                                        liq_comps=B1038_LiqAv_noise1,\n",
    "                                        equationT='T_Put2008_eq28a',\n",
    "                                        equationP='P_Put2008_eq29a', return_all_pairs=True)\n",
    "\n",
    "\n",
    "Opx_Liq_28a_Glob_all=pt.calculate_opx_liq_press_temp_matching(opx_comps=B1038_OpxAv_noise1,\n",
    "                                        liq_comps=B1038_LiqAv_noise1,\n",
    "                                        equationT='T_Put2008_eq28a',\n",
    "                                        equationP='P_Put_Global_Opx', return_all_pairs=True)"
   ]
  },
  {
   "cell_type": "code",
   "execution_count": 37,
   "id": "6deee0b2-1af7-47a1-9aa7-0f5240ba6682",
   "metadata": {},
   "outputs": [],
   "source": [
    "Opx_Liq_28a_29b=Opx_Liq_28a_29b_all['All_PTs']\n",
    "Opx_Liq_28b_29b=Opx_Liq_28a_29b_all['All_PTs']\n",
    "\n",
    "Opx_Liq_28a_29a=Opx_Liq_28a_29a_all['All_PTs']\n",
    "Opx_Liq_28a_Glob=Opx_Liq_28a_Glob_all['All_PTs']"
   ]
  },
  {
   "cell_type": "code",
   "execution_count": 38,
   "id": "cb33fa96-a757-4389-ba10-98a3f1f02273",
   "metadata": {},
   "outputs": [
    {
     "data": {
      "text/plain": [
       "[<matplotlib.lines.Line2D at 0x1821514c160>]"
      ]
     },
     "execution_count": 38,
     "metadata": {},
     "output_type": "execute_result"
    },
    {
     "data": {
      "image/png": "[encoded data removed]",
      "text/plain": [
       "<Figure size 432x288 with 1 Axes>"
      ]
     },
     "metadata": {
      "needs_background": "light"
     },
     "output_type": "display_data"
    }
   ],
   "source": [
    "plt.plot(Opx_Liq_28a_29b['T_K_calc'], Opx_Liq_28a_29b['H2O_Liq'], 'ok')\n"
   ]
  },
  {
   "cell_type": "code",
   "execution_count": 39,
   "id": "4cadf0a4-ae7c-4152-b1f6-f515fc53e658",
   "metadata": {},
   "outputs": [
    {
     "data": {
      "text/plain": [
       "[<matplotlib.lines.Line2D at 0x18213526490>]"
      ]
     },
     "execution_count": 39,
     "metadata": {},
     "output_type": "execute_result"
    },
    {
     "data": {
      "image/png": "[encoded data removed]",
      "text/plain": [
       "<Figure size 432x288 with 1 Axes>"
      ]
     },
     "metadata": {
      "needs_background": "light"
     },
     "output_type": "display_data"
    }
   ],
   "source": [
    "plt.plot(Opx_Liq_28a_29b['T_K_calc'], Opx_Liq_28a_29b['P_kbar_calc'], 'ok')\n",
    "plt.plot(Opx_Liq_28a_Glob['T_K_calc'], Opx_Liq_28a_Glob['P_kbar_calc'], '.g')\n",
    "\n",
    "plt.plot(Opx_Liq_28a_29a['T_K_calc'], Opx_Liq_28a_29a['P_kbar_calc'], '.r')"
   ]
  },
  {
   "cell_type": "markdown",
   "id": "2bbc1474-35fb-4467-8978-ff12ffc870da",
   "metadata": {},
   "source": [
    "## Amp-Liq error"
   ]
  },
  {
   "cell_type": "code",
   "execution_count": 40,
   "id": "360651a3-7cfe-4a61-b080-62ca9a0971d8",
   "metadata": {},
   "outputs": [
    {
     "name": "stdout",
     "output_type": "stream",
     "text": [
      "Youve selected a P-independent function\n",
      "Note - Putirka 2016 spreadsheet calculates H2O using a H2O-solubility law of uncertian origin based on the pressure calculated for 7a, and iterates H\"O and P. We dont do this, as we dont believe a pure h2o model is necessarily valid as you may be mixed fluid saturated or undersaturated. We recomend instead you choose a reasonable H2O content based on your system.\n",
      "Youve selected a T-independent function\n",
      "Done!\n",
      "Youve selected a P-independent function\n",
      "Youve selected a T-independent function\n",
      "Done!\n"
     ]
    }
   ],
   "source": [
    "AmpLiq_Eq4b_eq7a=pt.calculate_amp_liq_press_temp_matching(amp_comps=B1038_AmpAv_noise1,\n",
    "                                                liq_comps=B1038_LiqAv_noise1,\n",
    "                                                equationT=\"T_Put2016_eq4b\",\n",
    "                                                equationP=\"P_Put2016_eq7a\",\n",
    "                                                return_all_pairs=True)\n",
    "                                                \n",
    "all_5_7a=AmpLiq_Eq4b_eq7a['All_PTs']                                                \n",
    "AmpLiq_Eq9_eq7b=pt.calculate_amp_liq_press_temp_matching(amp_comps=B1038_AmpAv_noise1,\n",
    "                                                liq_comps=B1038_LiqAv_noise1,\n",
    "                                                equationT=\"T_Put2016_eq9\",\n",
    "                                                equationP=\"P_Put2016_eq7b\",\n",
    "                                                return_all_pairs=True)\n",
    "all_9_7b=AmpLiq_Eq9_eq7b['All_PTs']                                                 "
   ]
  },
  {
   "cell_type": "code",
   "execution_count": 41,
   "id": "a52364c1-43ba-4e58-9bf4-62b8ed10496f",
   "metadata": {},
   "outputs": [
    {
     "data": {
      "text/html": [
       "<div>\n",
       "<style scoped>\n",
       "    .dataframe tbody tr th:only-of-type {\n",
       "        vertical-align: middle;\n",
       "    }\n",
       "\n",
       "    .dataframe tbody tr th {\n",
       "        vertical-align: top;\n",
       "    }\n",
       "\n",
       "    .dataframe thead th {\n",
       "        text-align: right;\n",
       "    }\n",
       "</style>\n",
       "<table border=\"1\" class=\"dataframe\">\n",
       "  <thead>\n",
       "    <tr style=\"text-align: right;\">\n",
       "      <th></th>\n",
       "      <th>P_kbar_calc</th>\n",
       "      <th>T_K_calc</th>\n",
       "      <th>Delta_Kd</th>\n",
       "      <th>SiO2_Liq</th>\n",
       "      <th>TiO2_Liq</th>\n",
       "      <th>Al2O3_Liq</th>\n",
       "      <th>FeOt_Liq</th>\n",
       "      <th>MnO_Liq</th>\n",
       "      <th>MgO_Liq</th>\n",
       "      <th>CaO_Liq</th>\n",
       "      <th>...</th>\n",
       "      <th>CaO_Amp</th>\n",
       "      <th>Na2O_Amp</th>\n",
       "      <th>K2O_Amp</th>\n",
       "      <th>Cr2O3_Amp</th>\n",
       "      <th>F_Amp</th>\n",
       "      <th>Cl_Amp</th>\n",
       "      <th>Sample_ID_Amp_Num</th>\n",
       "      <th>Sample_ID_Amp</th>\n",
       "      <th>ID_AMP</th>\n",
       "      <th>Kd</th>\n",
       "    </tr>\n",
       "  </thead>\n",
       "  <tbody>\n",
       "    <tr>\n",
       "      <th>0</th>\n",
       "      <td>8.907960</td>\n",
       "      <td>1192.127549</td>\n",
       "      <td>-0.205206</td>\n",
       "      <td>54.912127</td>\n",
       "      <td>0.553627</td>\n",
       "      <td>16.307607</td>\n",
       "      <td>3.913720</td>\n",
       "      <td>0.051642</td>\n",
       "      <td>4.589672</td>\n",
       "      <td>6.959841</td>\n",
       "      <td>...</td>\n",
       "      <td>11.232777</td>\n",
       "      <td>2.143813</td>\n",
       "      <td>0.217578</td>\n",
       "      <td>0.162638</td>\n",
       "      <td>0.0</td>\n",
       "      <td>0.0</td>\n",
       "      <td>0.0</td>\n",
       "      <td>MC</td>\n",
       "      <td>0</td>\n",
       "      <td>0.485206</td>\n",
       "    </tr>\n",
       "    <tr>\n",
       "      <th>1</th>\n",
       "      <td>8.540603</td>\n",
       "      <td>1194.488260</td>\n",
       "      <td>-0.187712</td>\n",
       "      <td>54.816276</td>\n",
       "      <td>0.683962</td>\n",
       "      <td>16.105675</td>\n",
       "      <td>4.051213</td>\n",
       "      <td>0.041923</td>\n",
       "      <td>4.579614</td>\n",
       "      <td>6.829921</td>\n",
       "      <td>...</td>\n",
       "      <td>11.232777</td>\n",
       "      <td>2.143813</td>\n",
       "      <td>0.217578</td>\n",
       "      <td>0.162638</td>\n",
       "      <td>0.0</td>\n",
       "      <td>0.0</td>\n",
       "      <td>0.0</td>\n",
       "      <td>MC</td>\n",
       "      <td>0</td>\n",
       "      <td>0.467712</td>\n",
       "    </tr>\n",
       "    <tr>\n",
       "      <th>2</th>\n",
       "      <td>8.690615</td>\n",
       "      <td>1192.269599</td>\n",
       "      <td>-0.221342</td>\n",
       "      <td>54.972176</td>\n",
       "      <td>0.707717</td>\n",
       "      <td>16.030288</td>\n",
       "      <td>3.846826</td>\n",
       "      <td>0.024116</td>\n",
       "      <td>4.661246</td>\n",
       "      <td>6.840823</td>\n",
       "      <td>...</td>\n",
       "      <td>11.232777</td>\n",
       "      <td>2.143813</td>\n",
       "      <td>0.217578</td>\n",
       "      <td>0.162638</td>\n",
       "      <td>0.0</td>\n",
       "      <td>0.0</td>\n",
       "      <td>0.0</td>\n",
       "      <td>MC</td>\n",
       "      <td>0</td>\n",
       "      <td>0.501342</td>\n",
       "    </tr>\n",
       "    <tr>\n",
       "      <th>3</th>\n",
       "      <td>8.994884</td>\n",
       "      <td>1193.474561</td>\n",
       "      <td>-0.213735</td>\n",
       "      <td>54.576712</td>\n",
       "      <td>0.316629</td>\n",
       "      <td>16.122398</td>\n",
       "      <td>3.852982</td>\n",
       "      <td>0.048289</td>\n",
       "      <td>4.597862</td>\n",
       "      <td>6.750081</td>\n",
       "      <td>...</td>\n",
       "      <td>11.232777</td>\n",
       "      <td>2.143813</td>\n",
       "      <td>0.217578</td>\n",
       "      <td>0.162638</td>\n",
       "      <td>0.0</td>\n",
       "      <td>0.0</td>\n",
       "      <td>0.0</td>\n",
       "      <td>MC</td>\n",
       "      <td>0</td>\n",
       "      <td>0.493735</td>\n",
       "    </tr>\n",
       "    <tr>\n",
       "      <th>4</th>\n",
       "      <td>8.793058</td>\n",
       "      <td>1190.616102</td>\n",
       "      <td>-0.239641</td>\n",
       "      <td>55.010871</td>\n",
       "      <td>0.726953</td>\n",
       "      <td>16.228299</td>\n",
       "      <td>3.651150</td>\n",
       "      <td>0.018053</td>\n",
       "      <td>4.585625</td>\n",
       "      <td>6.930745</td>\n",
       "      <td>...</td>\n",
       "      <td>11.232777</td>\n",
       "      <td>2.143813</td>\n",
       "      <td>0.217578</td>\n",
       "      <td>0.162638</td>\n",
       "      <td>0.0</td>\n",
       "      <td>0.0</td>\n",
       "      <td>0.0</td>\n",
       "      <td>MC</td>\n",
       "      <td>0</td>\n",
       "      <td>0.519641</td>\n",
       "    </tr>\n",
       "    <tr>\n",
       "      <th>...</th>\n",
       "      <td>...</td>\n",
       "      <td>...</td>\n",
       "      <td>...</td>\n",
       "      <td>...</td>\n",
       "      <td>...</td>\n",
       "      <td>...</td>\n",
       "      <td>...</td>\n",
       "      <td>...</td>\n",
       "      <td>...</td>\n",
       "      <td>...</td>\n",
       "      <td>...</td>\n",
       "      <td>...</td>\n",
       "      <td>...</td>\n",
       "      <td>...</td>\n",
       "      <td>...</td>\n",
       "      <td>...</td>\n",
       "      <td>...</td>\n",
       "      <td>...</td>\n",
       "      <td>...</td>\n",
       "      <td>...</td>\n",
       "      <td>...</td>\n",
       "    </tr>\n",
       "    <tr>\n",
       "      <th>249995</th>\n",
       "      <td>8.305007</td>\n",
       "      <td>1185.760599</td>\n",
       "      <td>-0.284863</td>\n",
       "      <td>54.681616</td>\n",
       "      <td>0.677159</td>\n",
       "      <td>16.243503</td>\n",
       "      <td>3.589515</td>\n",
       "      <td>0.068628</td>\n",
       "      <td>4.655392</td>\n",
       "      <td>6.877652</td>\n",
       "      <td>...</td>\n",
       "      <td>11.038029</td>\n",
       "      <td>2.095088</td>\n",
       "      <td>0.217578</td>\n",
       "      <td>0.233553</td>\n",
       "      <td>0.0</td>\n",
       "      <td>0.0</td>\n",
       "      <td>0.0</td>\n",
       "      <td>MC</td>\n",
       "      <td>499</td>\n",
       "      <td>0.564863</td>\n",
       "    </tr>\n",
       "    <tr>\n",
       "      <th>249996</th>\n",
       "      <td>8.480323</td>\n",
       "      <td>1189.004699</td>\n",
       "      <td>-0.232399</td>\n",
       "      <td>54.937659</td>\n",
       "      <td>0.608060</td>\n",
       "      <td>16.178420</td>\n",
       "      <td>3.881889</td>\n",
       "      <td>0.087654</td>\n",
       "      <td>4.566976</td>\n",
       "      <td>6.823633</td>\n",
       "      <td>...</td>\n",
       "      <td>11.038029</td>\n",
       "      <td>2.095088</td>\n",
       "      <td>0.217578</td>\n",
       "      <td>0.233553</td>\n",
       "      <td>0.0</td>\n",
       "      <td>0.0</td>\n",
       "      <td>0.0</td>\n",
       "      <td>MC</td>\n",
       "      <td>499</td>\n",
       "      <td>0.512399</td>\n",
       "    </tr>\n",
       "    <tr>\n",
       "      <th>249997</th>\n",
       "      <td>8.824673</td>\n",
       "      <td>1189.260585</td>\n",
       "      <td>-0.239559</td>\n",
       "      <td>54.790395</td>\n",
       "      <td>0.715327</td>\n",
       "      <td>16.075034</td>\n",
       "      <td>3.886054</td>\n",
       "      <td>0.077941</td>\n",
       "      <td>4.635765</td>\n",
       "      <td>6.944659</td>\n",
       "      <td>...</td>\n",
       "      <td>11.038029</td>\n",
       "      <td>2.095088</td>\n",
       "      <td>0.217578</td>\n",
       "      <td>0.233553</td>\n",
       "      <td>0.0</td>\n",
       "      <td>0.0</td>\n",
       "      <td>0.0</td>\n",
       "      <td>MC</td>\n",
       "      <td>499</td>\n",
       "      <td>0.519559</td>\n",
       "    </tr>\n",
       "    <tr>\n",
       "      <th>249998</th>\n",
       "      <td>8.124865</td>\n",
       "      <td>1185.807852</td>\n",
       "      <td>-0.288394</td>\n",
       "      <td>54.911732</td>\n",
       "      <td>0.514875</td>\n",
       "      <td>16.089309</td>\n",
       "      <td>3.592193</td>\n",
       "      <td>0.071318</td>\n",
       "      <td>4.687990</td>\n",
       "      <td>6.900088</td>\n",
       "      <td>...</td>\n",
       "      <td>11.038029</td>\n",
       "      <td>2.095088</td>\n",
       "      <td>0.217578</td>\n",
       "      <td>0.233553</td>\n",
       "      <td>0.0</td>\n",
       "      <td>0.0</td>\n",
       "      <td>0.0</td>\n",
       "      <td>MC</td>\n",
       "      <td>499</td>\n",
       "      <td>0.568394</td>\n",
       "    </tr>\n",
       "    <tr>\n",
       "      <th>249999</th>\n",
       "      <td>8.337630</td>\n",
       "      <td>1184.903720</td>\n",
       "      <td>-0.304297</td>\n",
       "      <td>55.161110</td>\n",
       "      <td>0.670557</td>\n",
       "      <td>16.234473</td>\n",
       "      <td>3.426737</td>\n",
       "      <td>0.022446</td>\n",
       "      <td>4.597182</td>\n",
       "      <td>6.852743</td>\n",
       "      <td>...</td>\n",
       "      <td>11.038029</td>\n",
       "      <td>2.095088</td>\n",
       "      <td>0.217578</td>\n",
       "      <td>0.233553</td>\n",
       "      <td>0.0</td>\n",
       "      <td>0.0</td>\n",
       "      <td>0.0</td>\n",
       "      <td>MC</td>\n",
       "      <td>499</td>\n",
       "      <td>0.584297</td>\n",
       "    </tr>\n",
       "  </tbody>\n",
       "</table>\n",
       "<p>250000 rows × 133 columns</p>\n",
       "</div>"
      ],
      "text/plain": [
       "        P_kbar_calc     T_K_calc  Delta_Kd   SiO2_Liq  TiO2_Liq  Al2O3_Liq  \\\n",
       "0          8.907960  1192.127549 -0.205206  54.912127  0.553627  16.307607   \n",
       "1          8.540603  1194.488260 -0.187712  54.816276  0.683962  16.105675   \n",
       "2          8.690615  1192.269599 -0.221342  54.972176  0.707717  16.030288   \n",
       "3          8.994884  1193.474561 -0.213735  54.576712  0.316629  16.122398   \n",
       "4          8.793058  1190.616102 -0.239641  55.010871  0.726953  16.228299   \n",
       "...             ...          ...       ...        ...       ...        ...   \n",
       "249995     8.305007  1185.760599 -0.284863  54.681616  0.677159  16.243503   \n",
       "249996     8.480323  1189.004699 -0.232399  54.937659  0.608060  16.178420   \n",
       "249997     8.824673  1189.260585 -0.239559  54.790395  0.715327  16.075034   \n",
       "249998     8.124865  1185.807852 -0.288394  54.911732  0.514875  16.089309   \n",
       "249999     8.337630  1184.903720 -0.304297  55.161110  0.670557  16.234473   \n",
       "\n",
       "        FeOt_Liq   MnO_Liq   MgO_Liq   CaO_Liq  ...    CaO_Amp  Na2O_Amp  \\\n",
       "0       3.913720  0.051642  4.589672  6.959841  ...  11.232777  2.143813   \n",
       "1       4.051213  0.041923  4.579614  6.829921  ...  11.232777  2.143813   \n",
       "2       3.846826  0.024116  4.661246  6.840823  ...  11.232777  2.143813   \n",
       "3       3.852982  0.048289  4.597862  6.750081  ...  11.232777  2.143813   \n",
       "4       3.651150  0.018053  4.585625  6.930745  ...  11.232777  2.143813   \n",
       "...          ...       ...       ...       ...  ...        ...       ...   \n",
       "249995  3.589515  0.068628  4.655392  6.877652  ...  11.038029  2.095088   \n",
       "249996  3.881889  0.087654  4.566976  6.823633  ...  11.038029  2.095088   \n",
       "249997  3.886054  0.077941  4.635765  6.944659  ...  11.038029  2.095088   \n",
       "249998  3.592193  0.071318  4.687990  6.900088  ...  11.038029  2.095088   \n",
       "249999  3.426737  0.022446  4.597182  6.852743  ...  11.038029  2.095088   \n",
       "\n",
       "         K2O_Amp  Cr2O3_Amp  F_Amp  Cl_Amp  Sample_ID_Amp_Num  Sample_ID_Amp  \\\n",
       "0       0.217578   0.162638    0.0     0.0                0.0             MC   \n",
       "1       0.217578   0.162638    0.0     0.0                0.0             MC   \n",
       "2       0.217578   0.162638    0.0     0.0                0.0             MC   \n",
       "3       0.217578   0.162638    0.0     0.0                0.0             MC   \n",
       "4       0.217578   0.162638    0.0     0.0                0.0             MC   \n",
       "...          ...        ...    ...     ...                ...            ...   \n",
       "249995  0.217578   0.233553    0.0     0.0                0.0             MC   \n",
       "249996  0.217578   0.233553    0.0     0.0                0.0             MC   \n",
       "249997  0.217578   0.233553    0.0     0.0                0.0             MC   \n",
       "249998  0.217578   0.233553    0.0     0.0                0.0             MC   \n",
       "249999  0.217578   0.233553    0.0     0.0                0.0             MC   \n",
       "\n",
       "        ID_AMP        Kd  \n",
       "0            0  0.485206  \n",
       "1            0  0.467712  \n",
       "2            0  0.501342  \n",
       "3            0  0.493735  \n",
       "4            0  0.519641  \n",
       "...        ...       ...  \n",
       "249995     499  0.564863  \n",
       "249996     499  0.512399  \n",
       "249997     499  0.519559  \n",
       "249998     499  0.568394  \n",
       "249999     499  0.584297  \n",
       "\n",
       "[250000 rows x 133 columns]"
      ]
     },
     "execution_count": 41,
     "metadata": {},
     "output_type": "execute_result"
    }
   ],
   "source": [
    "all_5_7a\n",
    "all_9_7b"
   ]
  },
  {
   "cell_type": "code",
   "execution_count": 42,
   "id": "5750ba66-7612-49f4-b12e-79de6785fe8d",
   "metadata": {},
   "outputs": [
    {
     "data": {
      "text/plain": [
       "[<matplotlib.lines.Line2D at 0x182037a0820>]"
      ]
     },
     "execution_count": 42,
     "metadata": {},
     "output_type": "execute_result"
    },
    {
     "data": {
      "image/png": "[encoded data removed]",
      "text/plain": [
       "<Figure size 432x288 with 1 Axes>"
      ]
     },
     "metadata": {
      "needs_background": "light"
     },
     "output_type": "display_data"
    }
   ],
   "source": [
    "plt.plot(all_5_7a['P_kbar_calc'], all_5_7a['T_K_calc'], 'ok')\n",
    "plt.plot(all_9_7b['P_kbar_calc'], all_9_7b['T_K_calc'], '.r')\n"
   ]
  },
  {
   "cell_type": "markdown",
   "id": "d1bc848e-547e-499f-beec-34f7c0a11826",
   "metadata": {},
   "source": [
    "## Cpx-Liq"
   ]
  },
  {
   "cell_type": "code",
   "execution_count": 43,
   "id": "ae2a5365-0241-4d13-9b81-88f5db11ea55",
   "metadata": {},
   "outputs": [
    {
     "name": "stderr",
     "output_type": "stream",
     "text": [
      "C:\\Users\\penny\\anaconda3\\lib\\site-packages\\pandas\\core\\indexing.py:2115: FutureWarning: In a future version, the Index constructor will not infer numeric dtypes when passed object-dtype sequences (matching Series behavior)\n",
      "  new_ix = Index(new_ix)\n"
     ]
    },
    {
     "name": "stdout",
     "output_type": "stream",
     "text": [
      "Considering 250000 Liq-Cpx pairs, be patient if this is >>1 million!\n",
      "No equilibrium filters applied\n",
      "Finished calculating Ps and Ts, now just averaging the results. Almost there!\n",
      "Done!\n"
     ]
    }
   ],
   "source": [
    "Cpx_Liq_33_NP_all=pt.calculate_cpx_liq_press_temp_matching(cpx_comps=B1038_CpxAv_noise1,\n",
    "                                        liq_comps=B1038_LiqAv_noise1,\n",
    "                                        equationT='T_Put2008_eq33',\n",
    "                                        equationP='P_Neave2017', return_all_pairs=True)\n",
    "Cpx_Liq_33_NP=Cpx_Liq_33_NP_all['All_PTs']"
   ]
  },
  {
   "cell_type": "code",
   "execution_count": 44,
   "id": "43ab05b9-865d-4a77-9a98-6f3fbde54dbd",
   "metadata": {},
   "outputs": [
    {
     "name": "stderr",
     "output_type": "stream",
     "text": [
      "C:\\Users\\penny\\anaconda3\\lib\\site-packages\\pandas\\core\\indexing.py:2115: FutureWarning: In a future version, the Index constructor will not infer numeric dtypes when passed object-dtype sequences (matching Series behavior)\n",
      "  new_ix = Index(new_ix)\n"
     ]
    },
    {
     "name": "stdout",
     "output_type": "stream",
     "text": [
      "Considering 250000 Liq-Cpx pairs, be patient if this is >>1 million!\n",
      "No equilibrium filters applied\n",
      "Finished calculating Ps and Ts, now just averaging the results. Almost there!\n",
      "Done!\n"
     ]
    }
   ],
   "source": [
    "Cpx_Liq_33_30_all=pt.calculate_cpx_liq_press_temp_matching(cpx_comps=B1038_CpxAv_noise1,\n",
    "                                        liq_comps=B1038_LiqAv_noise1,\n",
    "                                        equationT='T_Put2008_eq33',\n",
    "                                        equationP='P_Put2008_eq30', return_all_pairs=True)\n",
    "Cpx_Liq_33_30=Cpx_Liq_33_30_all['All_PTs']"
   ]
  },
  {
   "cell_type": "code",
   "execution_count": 45,
   "id": "9e8771ae-d914-4c89-9119-e710bcae06ec",
   "metadata": {},
   "outputs": [],
   "source": [
    "Opam_all=pd.read_excel('ForPenny_Opam.xlsx')\n",
    "Opam=Opam_all.loc[Opam_all['Test']==1]\n",
    "Opam_F=Opam_all.loc[Opam_all['Test']==0]"
   ]
  },
  {
   "cell_type": "markdown",
   "id": "475dfa1d-b8c1-4f29-9c6b-ae25be30a984",
   "metadata": {},
   "source": [
    "## Summary figure - stacked histograms\n"
   ]
  },
  {
   "cell_type": "code",
   "execution_count": 46,
   "id": "ec162c7e-3345-408e-9214-1134d4cf088d",
   "metadata": {},
   "outputs": [
    {
     "data": {
      "image/png": "[encoded data removed]",
      "text/plain": [
       "<Figure size 720x576 with 13 Axes>"
      ]
     },
     "metadata": {
      "needs_background": "light"
     },
     "output_type": "display_data"
    }
   ],
   "source": [
    "import seaborn as sns\n",
    "import warnings as w\n",
    "with w.catch_warnings():\n",
    "    w.simplefilter('ignore')\n",
    "\n",
    "    fig, ((ax1, ax2), (ax3, ax4), (ax5, ax6), (ax7, ax8), (ax9, ax10) ) = plt.subplots(5,2, figsize = (10,8)) \n",
    "\n",
    "    # Liquid\n",
    "    ax=sns.distplot(Liq_Eq22-np.nanmedian(Liq_Eq22),  hist=False, ax=ax1, color='k')\n",
    "    ax=sns.distplot(Liq_Eq14-np.nanmedian(Liq_Eq14),  hist=False, ax=ax1, color='r')\n",
    "    ax1b=ax1.twinx()\n",
    "    ax=sns.distplot(Liq_Helz-np.nanmedian(Liq_Helz),  hist=False, ax=ax1b, color='g')\n",
    "\n",
    "    # Opx - Liq Temp\n",
    "\n",
    "\n",
    "    ax=sns.distplot(Opx_Liq_28a_29c['T_K_calc']-np.nanmedian(Opx_Liq_28a_29c['T_K_calc']),  \n",
    "             hist=False, ax=ax3, color='m')\n",
    "\n",
    "    ax=sns.distplot(Opx_Liq_28a_29a['T_K_calc']-np.nanmedian(Opx_Liq_28a_29a['T_K_calc']),\n",
    "            hist=False, ax=ax3, color='black')\n",
    "    ax=sns.distplot(Opx_Liq_28a_Glob['T_K_calc']-np.nanmedian(Opx_Liq_28a_Glob['T_K_calc']),\n",
    "            hist=False, ax=ax3, color='cornflowerblue')\n",
    "    \n",
    "    ax=sns.distplot(Opx_Liq_28a_29b['T_K_calc']-np.nanmedian(Opx_Liq_28a_29b['T_K_calc']), \n",
    "              hist=False, ax=ax3, color='black', kde_kws={'linestyle':'-'})\n",
    "    # Amp-Liq error\n",
    "    all_5_7a\n",
    "    all_9_7b\n",
    "    bins_Amp=10\n",
    "    ax=sns.distplot(all_5_7a['T_K_calc']-np.nanmedian(all_5_7a['T_K_calc']), \n",
    "              hist=False, ax=ax5, color='green')\n",
    "    ax=sns.distplot(all_9_7b['T_K_calc']-np.nanmedian(all_9_7b['T_K_calc']), \n",
    "              hist=False, ax=ax5, color='slateblue')\n",
    "    ax=sns.distplot(Amp_Ridolfi['T_K_calc']-np.nanmedian(Amp_Ridolfi['T_K_calc']), \n",
    "             hist=False, ax=ax5, color='darkorchid')\n",
    "\n",
    "\n",
    "    ## Cpx Opx error\n",
    "    ax=sns.distplot(CalcP_3639['T_K_calc']-np.nanmedian(CalcP_3639['T_K_calc']), \n",
    "              hist=False, ax=ax7, color='r')\n",
    "    ax=sns.distplot(CalcP_3638['T_K_calc']-np.nanmedian(CalcP_3638['T_K_calc']), \n",
    "              hist=False, ax=ax7, color='goldenrod')\n",
    "    \n",
    "    ax=sns.distplot(CalcP_3739['T_K_calc']-np.nanmedian(CalcP_3739['T_K_calc']), \n",
    "              hist=False, ax=ax7, color='black',  kde_kws={'linestyle':'-'})\n",
    "    ax=sns.distplot(CalcP_3738['T_K_calc']-np.nanmedian(CalcP_3738['T_K_calc']), \n",
    "              hist=False, ax=ax7, color='grey',  kde_kws={'linestyle':'-'})\n",
    "    \n",
    "    ## Cpx-Liq error\n",
    "    ax=sns.distplot(Cpx_B1038_Putirka['T_K_calc']-np.nanmedian(Cpx_B1038_Putirka['T_K_calc']), \n",
    "              hist=False, ax=ax9, color='maroon')\n",
    "\n",
    "    ax=sns.distplot(Cpx_B1038_Wang['T_K_calc']-np.nanmedian(Cpx_B1038_Wang['T_K_calc']), \n",
    "             hist=False, ax=ax9, color='violet')\n",
    "\n",
    "    ax=sns.distplot(Cpx_Liq_33_NP['T_K_calc']-np.nanmedian(Cpx_Liq_33_NP['T_K_calc']), \n",
    "             hist=False, ax=ax9, color='black')\n",
    "\n",
    "    ax=sns.distplot(Cpx_Liq_33_30['T_K_calc']-np.nanmedian(Cpx_Liq_33_30['T_K_calc']), \n",
    "             hist=False, ax=ax9, color='grey')\n",
    "\n",
    "\n",
    "    ############################### PRESSURES ###########################################################3\n",
    "    # Liquid - Need OPAM from Matt\n",
    "\n",
    "    \n",
    "    ax=sns.distplot(Opam['P_kbar']-np.nanmedian(Opam['P_kbar']), \n",
    "              hist=False, ax=ax2, color='grey')\n",
    "    ax=sns.distplot(Opam_F['P_kbar']-np.nanmedian(Opam_F['P_kbar']), \n",
    "              hist=False, ax=ax2, color='rosybrown')    \n",
    "    \n",
    "    # Opx - Liq Press\n",
    "\n",
    "    ax=sns.distplot(Opx_Liq_28a_29c['P_kbar_calc']-np.nanmedian(Opx_Liq_28a_29c['P_kbar_calc']),  \n",
    "             hist=False, ax=ax4, color='m')\n",
    "\n",
    "    ax=sns.distplot(Opx_Liq_28a_29a['P_kbar_calc']-np.nanmedian(Opx_Liq_28a_29a['P_kbar_calc']),\n",
    "            hist=False, ax=ax4, color='black')\n",
    "\n",
    "    ax4b=ax4.twinx()\n",
    "    ax=sns.distplot(Opx_Liq_28a_Glob['P_kbar_calc']-np.nanmedian(Opx_Liq_28a_Glob['P_kbar_calc']),\n",
    "            hist=False, ax=ax4b, color='cornflowerblue')\n",
    "    \n",
    "    ax=sns.distplot(Opx_Liq_28a_29b['P_kbar_calc']-np.nanmedian(Opx_Liq_28a_29b['P_kbar_calc']), \n",
    "              hist=False, ax=ax4, color='black',  kde_kws={'linestyle':'-'})\n",
    "    # Amp-Liq error\n",
    "    all_5_7a\n",
    "    all_9_7b\n",
    "    bins_Amp=10\n",
    "    ax=sns.distplot(all_5_7a['P_kbar_calc']-np.nanmedian(all_5_7a['P_kbar_calc']), \n",
    "              hist=False, ax=ax6, color='green')\n",
    "    ax=sns.distplot(all_9_7b['P_kbar_calc']-np.nanmedian(all_9_7b['P_kbar_calc']), \n",
    "              hist=False, ax=ax6, color='slateblue')\n",
    "    ax6b=ax6.twinx()\n",
    "    ax=sns.distplot(Amp_Ridolfi['P_kbar_calc']-np.nanmedian(Amp_Ridolfi['P_kbar_calc']), \n",
    "             hist=False, ax=ax6b, color='darkorchid')\n",
    "    ax=sns.distplot(Amp_B1038_Medard-np.nanmedian(Amp_B1038_Medard), \n",
    "             hist=False, ax=ax6b, color='red')\n",
    "\n",
    "    ## Cpx Opx error\n",
    "    ax=sns.distplot(CalcP_3639['P_kbar_calc']-np.nanmedian(CalcP_3639['P_kbar_calc']), \n",
    "              hist=False, ax=ax8, color='r')\n",
    "    ax=sns.distplot(CalcP_3638['P_kbar_calc']-np.nanmedian(CalcP_3638['P_kbar_calc']), \n",
    "              hist=False, ax=ax8, color='goldenrod')\n",
    "    \n",
    "    ax=sns.distplot(CalcP_3739['P_kbar_calc']-np.nanmedian(CalcP_3739['P_kbar_calc']), \n",
    "              hist=False, ax=ax8, color='black',   kde_kws={'linestyle':'-'})\n",
    "    ax=sns.distplot(CalcP_3738['P_kbar_calc']-np.nanmedian(CalcP_3738['P_kbar_calc']), \n",
    "              hist=False, ax=ax8, color='grey',  kde_kws={'linestyle':'-'})\n",
    "    ## Cpx-Liq error\n",
    "    ax=sns.distplot(Cpx_B1038_Putirka['P_kbar_calc']-np.nanmedian(Cpx_B1038_Putirka['P_kbar_calc']), \n",
    "              hist=False, ax=ax10, color='maroon')\n",
    "\n",
    "    ax=sns.distplot(Cpx_B1038_Wang['P_kbar_calc']-np.nanmedian(Cpx_B1038_Wang['P_kbar_calc']), \n",
    "             hist=False, ax=ax10, color='violet')\n",
    "\n",
    "    ax=sns.distplot(Cpx_Liq_33_NP['P_kbar_calc']-np.nanmedian(Cpx_Liq_33_NP['P_kbar_calc']), \n",
    "             hist=False, ax=ax10, color='black')\n",
    "\n",
    "    ax=sns.distplot(Cpx_Liq_33_30['P_kbar_calc']-np.nanmedian(Cpx_Liq_33_30['P_kbar_calc']), \n",
    "             hist=False, ax=ax10, color='grey')    \n",
    "    ax1.grid(color = 'k', linestyle = '--', axis='x', linewidth = 1, alpha = 0.1)\n",
    "    ax3.grid(color = 'k', linestyle = '--', axis='x', linewidth = 1, alpha = 0.1)\n",
    "    ax5.grid(color = 'k', linestyle = '--', axis='x', linewidth = 1, alpha = 0.1)\n",
    "    ax7.grid(color = 'k', linestyle = '--', axis='x', linewidth = 1, alpha = 0.1)\n",
    "    ax9.grid(color = 'k', linestyle = '--', axis='x', linewidth = 1, alpha = 0.1)\n",
    "\n",
    "    ax2.grid(color = 'k', linestyle = '--', axis='x', linewidth = 1, alpha = 0.1)\n",
    "    ax4.grid(color = 'k', linestyle = '--', axis='x', linewidth = 1, alpha = 0.1)\n",
    "    ax6.grid(color = 'k', linestyle = '--', axis='x', linewidth = 1, alpha = 0.1)\n",
    "    ax8.grid(color = 'k', linestyle = '--', axis='x', linewidth = 1, alpha = 0.1)\n",
    "    ax10.grid(color = 'k', linestyle = '--', axis='x', linewidth = 1, alpha = 0.1)\n",
    "\n",
    "    ax1.set_xticks([-50, -40,  -30, -20, -10, 0, 10, 20, 30, 40, 50])\n",
    "    ax1.set_xticklabels(['', '', '', '', '', '', '', '', '','', ''])\n",
    "    ax3.set_xticks([-50, -40,  -30, -20, -10, 0, 10, 20, 30, 40, 50])\n",
    "    ax3.set_xticklabels(['', '', '', '', '', '', '', '', '','', ''])\n",
    "    ax5.set_xticks([-50, -40,  -30, -20, -10, 0, 10, 20, 30, 40, 50])\n",
    "    ax5.set_xticklabels(['', '', '', '', '', '', '', '', '','', ''])\n",
    "    ax7.set_xticks([-50, -40,  -30, -20, -10, 0, 10, 20, 30, 40, 50])\n",
    "    ax7.set_xticklabels(['', '', '', '', '', '', '', '', '','', ''])\n",
    "    ax9.set_xticks([-50, -40,  -30, -20, -10, 0, 10, 20, 30, 40, 50])\n",
    "\n",
    "    \n",
    "    ax2.set_xticks([-4, -3,  -2, -1,  0, 1, 2, 3, 4, 5])\n",
    "    ax2.set_xticklabels(['', '', '', '', '', '', '', '', '',''])\n",
    "    ax4.set_xticks([-4, -3,  -2, -1,  0, 1, 2, 3, 4, 5])\n",
    "    ax4.set_xticklabels(['', '', '', '', '', '', '', '', '',''])\n",
    "    ax6.set_xticks([-4, -3,  -2, -1,  0, 1, 2, 3, 4, 5])\n",
    "    ax6.set_xticklabels(['', '', '', '', '', '', '', '', '',''])\n",
    "    ax8.set_xticks([-4, -3,  -2, -1,  0, 1, 2, 3, 4, 5])\n",
    "    ax8.set_xticklabels(['', '', '', '', '', '', '', '', '',''])\n",
    "\n",
    "    ax1.axes.get_yaxis().set_visible(False)\n",
    "    ax1b.axes.get_yaxis().set_visible(False)\n",
    "\n",
    "    ax2.axes.get_yaxis().set_visible(False)\n",
    "    ax3.axes.get_yaxis().set_visible(False)\n",
    "    ax4.axes.get_yaxis().set_visible(False)\n",
    "    ax4b.axes.get_yaxis().set_visible(False)\n",
    "\n",
    "    ax5.axes.get_yaxis().set_visible(False)\n",
    "    ax6.axes.get_yaxis().set_visible(False)\n",
    "    ax6b.axes.get_yaxis().set_visible(False)\n",
    "   \n",
    "    ax7.axes.get_yaxis().set_visible(False)\n",
    "    ax8.axes.get_yaxis().set_visible(False)\n",
    "    ax9.axes.get_yaxis().set_visible(False)\n",
    "    ax10.axes.get_yaxis().set_visible(False)\n",
    "\n",
    "    x1=-50\n",
    "    x2=+50\n",
    "    ax1.set_xlim([x1,x2])\n",
    "    ax3.set_xlim([x1,x2])\n",
    "    ax5.set_xlim([x1,x2])\n",
    "    ax7.set_xlim([x1,x2])\n",
    "    ax9.set_xlim([x1,x2])\n",
    "\n",
    "    x3=-4\n",
    "    x4=+4\n",
    "    ax2.set_xlim([x3,x4])\n",
    "    ax4.set_xlim([x3,x4])\n",
    "    ax6.set_xlim([x3,x4])\n",
    "    ax8.set_xlim([x3,x4])\n",
    "    ax10.set_xlim([x3,x4])\n",
    "    #fig.tight_layout()\n",
    "\n",
    "    plt.subplots_adjust(wspace=0.1, hspace=0.05)\n",
    "    fig.savefig('MonteCarlo_Simulations.png', dpi=200)\n"
   ]
  },
  {
   "cell_type": "markdown",
   "id": "f3896d39-6fd0-4739-974f-0c586d54dde5",
   "metadata": {},
   "source": [
    "## Making crustal thickness histogram\n"
   ]
  },
  {
   "cell_type": "code",
   "execution_count": 48,
   "id": "39fac22e-d355-4d0a-9867-3c0716d58786",
   "metadata": {},
   "outputs": [],
   "source": [
    "spread_rate_ocean=pd.read_excel(r'G:\\My Drive\\Berkeley_NEW\\Barometry_Review_Thoughts\\Crustal_Thickness_Compilation.xlsx', sheet_name='Chen_1992')\n",
    "spread_rate_p40=spread_rate_ocean.loc[spread_rate_ocean['Spreading_rate']>40]\n",
    "spread_rate_l40=spread_rate_ocean.loc[spread_rate_ocean['Spreading_rate']<40]\n",
    "\n",
    "Arc_Profeta=pd.read_excel(r'G:\\My Drive\\Berkeley_NEW\\Barometry_Review_Thoughts\\Crustal_Thickness_Compilation.xlsx', sheet_name='Profeta_2015')\n",
    "OIB_Comp=pd.read_excel(r'G:\\My Drive\\Berkeley_NEW\\Barometry_Review_Thoughts\\Crustal_Thickness_Compilation.xlsx', sheet_name='Ocean_Islands')"
   ]
  },
  {
   "cell_type": "code",
   "execution_count": 61,
   "id": "3c943a12-6e38-4dc4-b254-01a6cd9e6570",
   "metadata": {},
   "outputs": [],
   "source": [
    "Ocean_Press=10**(-8)*spread_rate_ocean['Crustal_thickness']*1000*(9.8*2700)\n",
    "OIB_Press=10**(-8)*OIB_Comp['Crustal Thickness_av']*1000*(9.8*2700)\n",
    "Arc_Press=10**(-8)*Arc_Profeta['Moho_depth']*1000*(9.8*2700)"
   ]
  },
  {
   "cell_type": "code",
   "execution_count": 76,
   "id": "2bc7d903-be02-4be2-96df-4e5c82e4b407",
   "metadata": {},
   "outputs": [
    {
     "data": {
      "image/png": "[encoded data removed]",
      "text/plain": [
       "<Figure size 720x576 with 10 Axes>"
      ]
     },
     "metadata": {
      "needs_background": "light"
     },
     "output_type": "display_data"
    }
   ],
   "source": [
    "fig, ((ax1, ax2), (ax3, ax4), (ax5, ax6), (ax7, ax8), (ax9, ax10) ) = plt.subplots(5,2, figsize = (10,8)) \n",
    "\n",
    "\n",
    "ax2.hist(Arc_Press, ec='k')\n",
    "ax2.hist(Ocean_Press, ec='k')\n",
    "ax2.hist(OIB_Press, ec='k')\n",
    "ax2.set_xlim([0, 8])\n",
    "fig.savefig('DepthTest.png', dpi=200)"
   ]
  },
  {
   "cell_type": "code",
   "execution_count": 73,
   "id": "f75799a5-fb8b-425b-b0c1-c22f7c16b50e",
   "metadata": {},
   "outputs": [
    {
     "data": {
      "text/plain": [
       "(0.0, 4.0)"
      ]
     },
     "execution_count": 73,
     "metadata": {},
     "output_type": "execute_result"
    },
    {
     "data": {
      "image/png": "[encoded data removed]",
      "text/plain": [
       "<Figure size 432x288 with 1 Axes>"
      ]
     },
     "metadata": {
      "needs_background": "light"
     },
     "output_type": "display_data"
    }
   ],
   "source": [
    "plt.hist(Arc_Press, ec='k')\n",
    "plt.hist(Ocean_Press, ec='k')\n",
    "plt.hist(OIB_Press, ec='k')\n",
    "plt.xlim([0, 4])"
   ]
  },
  {
   "cell_type": "code",
   "execution_count": 72,
   "id": "7cb221c2-8718-49b8-a1d7-e7baeaea4bc7",
   "metadata": {},
   "outputs": [
    {
     "data": {
      "text/plain": [
       "(-4.0, 4.0)"
      ]
     },
     "execution_count": 72,
     "metadata": {},
     "output_type": "execute_result"
    },
    {
     "data": {
      "image/png": "[encoded data removed]",
      "text/plain": [
       "<Figure size 432x288 with 1 Axes>"
      ]
     },
     "metadata": {
      "needs_background": "light"
     },
     "output_type": "display_data"
    }
   ],
   "source": [
    "plt.hist(Arc_Press-np.nanmean(Arc_Press), ec='k')\n",
    "plt.hist(Ocean_Press-np.nanmean(Ocean_Press), ec='k')\n",
    "plt.hist(OIB_Press-np.nanmean(OIB_Press), ec='k')\n",
    "plt.xlim([-4, 4])"
   ]
  },
  {
   "cell_type": "code",
   "execution_count": null,
   "id": "3b6ddfec-d29a-4adf-b7bd-91b629e5f10d",
   "metadata": {},
   "outputs": [],
   "source": [
    "plt.plot(0, 0, 'o', color='darkorchid', ms=30)\n",
    "plt.plot(1, 1, 'ok', color='slateblue', ms=30, lw=10)"
   ]
  },
  {
   "cell_type": "code",
   "execution_count": null,
   "id": "5c9c125c-9cc1-4a55-8d5f-da19bf289059",
   "metadata": {},
   "outputs": [],
   "source": [
    "fig, ((ax1, ax2), (ax3, ax4), (ax5, ax6), (ax7, ax8), (ax9, ax10) ) = plt.subplots(5,2, figsize = (8,10)) \n",
    "ax=sns.distplot(Amp_Ridolfi['T_K_calc']-np.nanmedian(Amp_Ridolfi['T_K_calc']), \n",
    "         hist=False)\n"
   ]
  },
  {
   "cell_type": "code",
   "execution_count": null,
   "id": "2c2ef9e8-0dd6-4ddb-9e03-0656a6ad5eb7",
   "metadata": {},
   "outputs": [],
   "source": [
    "len(Amp_Ridolfi['T_K_calc'])"
   ]
  },
  {
   "cell_type": "code",
   "execution_count": null,
   "id": "846439a8-cdde-4909-b031-112907945316",
   "metadata": {},
   "outputs": [],
   "source": []
  },
  {
   "cell_type": "code",
   "execution_count": null,
   "id": "2e5be2a4-6ef1-48f6-9664-29346526def1",
   "metadata": {},
   "outputs": [],
   "source": []
  }
 ],
 "metadata": {
  "kernelspec": {
   "display_name": "Python 3 (ipykernel)",
   "language": "python",
   "name": "python3"
  },
  "language_info": {
   "codemirror_mode": {
    "name": "ipython",
    "version": 3
   },
   "file_extension": ".py",
   "mimetype": "text/x-python",
   "name": "python",
   "nbconvert_exporter": "python",
   "pygments_lexer": "ipython3",
   "version": "3.9.13"
  }
 },
 "nbformat": 4,
 "nbformat_minor": 5
}
